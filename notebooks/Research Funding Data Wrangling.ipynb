{
 "cells": [
  {
   "cell_type": "code",
   "execution_count": 8,
   "metadata": {
    "collapsed": true
   },
   "outputs": [],
   "source": [
    "from datascience import *\n",
    "import numpy as np\n",
    "import pandas as pd\n",
    "import matplotlib.pyplot as plt\n",
    "%matplotlib inline\n",
    "plt.style.use('fivethirtyeight')\n",
    "import json"
   ]
  },
  {
   "cell_type": "code",
   "execution_count": 9,
   "metadata": {
    "collapsed": false
   },
   "outputs": [
    {
     "data": {
      "text/html": [
       "<table border=\"1\" class=\"dataframe\">\n",
       "    <thead>\n",
       "        <tr>\n",
       "            <th>﻿Control Unit</th> <th>Division</th> <th>Department</th> <th>Direct Sponsor</th> <th>2014</th> <th>2015</th> <th>2016</th>\n",
       "        </tr>\n",
       "    </thead>\n",
       "    <tbody>\n",
       "        <tr>\n",
       "            <td>Campus Support</td> <td>Vice Chancellor - Administration</td> <td>Finance                              </td> <td>LBNL Lawrence Berkeley Nati..  </td> <td>$75,000  </td> <td>$400,000 </td> <td>nan      </td>\n",
       "        </tr>\n",
       "    </tbody>\n",
       "        <tr>\n",
       "            <td>Campus Support</td> <td>Vice Chancellor - Administration</td> <td>Finance                              </td> <td>SAMHSA Center for Substanc..   </td> <td>$0       </td> <td>$0       </td> <td>nan      </td>\n",
       "        </tr>\n",
       "    </tbody>\n",
       "        <tr>\n",
       "            <td>Campus Support</td> <td>Vice Chancellor - Administration</td> <td>Finance                              </td> <td>UC Office of the President     </td> <td>$0       </td> <td>nan      </td> <td>nan      </td>\n",
       "        </tr>\n",
       "    </tbody>\n",
       "        <tr>\n",
       "            <td>Campus Support</td> <td>Vice Chancellor - Administration</td> <td>Information Services & Technology    </td> <td>Andrew W Mellon Foundation     </td> <td>$150,000 </td> <td>$0       </td> <td>nan      </td>\n",
       "        </tr>\n",
       "    </tbody>\n",
       "        <tr>\n",
       "            <td>Campus Support</td> <td>Vice Chancellor - Administration</td> <td>Information Services & Technology    </td> <td>LYRASIS                        </td> <td>nan      </td> <td>$100,018 </td> <td>$70,854  </td>\n",
       "        </tr>\n",
       "    </tbody>\n",
       "        <tr>\n",
       "            <td>Campus Support</td> <td>Vice Chancellor - Administration</td> <td>Information Services & Technology    </td> <td>NSF National Science Founda..  </td> <td>nan      </td> <td>nan      </td> <td>$399,446 </td>\n",
       "        </tr>\n",
       "    </tbody>\n",
       "        <tr>\n",
       "            <td>Campus Support</td> <td>Vice Chancellor - Administration</td> <td>International House                  </td> <td>Middlebury College             </td> <td>nan      </td> <td>$10,000  </td> <td>nan      </td>\n",
       "        </tr>\n",
       "    </tbody>\n",
       "        <tr>\n",
       "            <td>Campus Support</td> <td>Vice Chancellor - Administration</td> <td>Public Safety                        </td> <td>Bay Areas Urban Area Securit.. </td> <td>$327,226 </td> <td>$30,145  </td> <td>nan      </td>\n",
       "        </tr>\n",
       "    </tbody>\n",
       "        <tr>\n",
       "            <td>Campus Support</td> <td>Vice Chancellor - Real Estate   </td> <td>Physical Plant Campus Services       </td> <td>California Emergency Manage..  </td> <td>nan      </td> <td>nan      </td> <td>$573,828 </td>\n",
       "        </tr>\n",
       "    </tbody>\n",
       "        <tr>\n",
       "            <td>Colleges      </td> <td>CNR College of Natural Resources</td> <td>Null                                 </td> <td>Abt Associates, Inc.           </td> <td>$73,942  </td> <td>nan      </td> <td>nan      </td>\n",
       "        </tr>\n",
       "    </tbody>\n",
       "        <tr>\n",
       "            <td>Colleges      </td> <td>CNR College of Natural Resources</td> <td>Null                                 </td> <td>California Department of Fore..</td> <td>nan      </td> <td>$0       </td> <td>$0       </td>\n",
       "        </tr>\n",
       "    </tbody>\n",
       "        <tr>\n",
       "            <td>Colleges      </td> <td>CNR College of Natural Resources</td> <td>Null                                 </td> <td>NIH Office of the Director     </td> <td>$600,000 </td> <td>nan      </td> <td>nan      </td>\n",
       "        </tr>\n",
       "    </tbody>\n",
       "        <tr>\n",
       "            <td>Colleges      </td> <td>CNR College of Natural Resources</td> <td>Null                                 </td> <td>Oregon, State of               </td> <td>$10,000  </td> <td>nan      </td> <td>nan      </td>\n",
       "        </tr>\n",
       "    </tbody>\n",
       "        <tr>\n",
       "            <td>Colleges      </td> <td>CNR College of Natural Resources</td> <td>Null                                 </td> <td>Research Triangle Institute    </td> <td>nan      </td> <td>$113,844 </td> <td>($81,879)</td>\n",
       "        </tr>\n",
       "    </tbody>\n",
       "        <tr>\n",
       "            <td>Colleges      </td> <td>CNR College of Natural Resources</td> <td>Null                                 </td> <td>UC Davis                       </td> <td>$141,530 </td> <td>$48,763  </td> <td>$0       </td>\n",
       "        </tr>\n",
       "    </tbody>\n",
       "        <tr>\n",
       "            <td>Colleges      </td> <td>CNR College of Natural Resources</td> <td>Null                                 </td> <td>UC San Francisco               </td> <td>nan      </td> <td>nan      </td> <td>$31,424  </td>\n",
       "        </tr>\n",
       "    </tbody>\n",
       "        <tr>\n",
       "            <td>Colleges      </td> <td>CNR College of Natural Resources</td> <td>Null                                 </td> <td>USDA Forest Service            </td> <td>$0       </td> <td>nan      </td> <td>nan      </td>\n",
       "        </tr>\n",
       "    </tbody>\n",
       "        <tr>\n",
       "            <td>Colleges      </td> <td>CNR College of Natural Resources</td> <td>ARE Agricultural & Resource Economics</td> <td>California Department of Indu..</td> <td>nan      </td> <td>nan      </td> <td>$58,222  </td>\n",
       "        </tr>\n",
       "    </tbody>\n",
       "        <tr>\n",
       "            <td>Colleges      </td> <td>CNR College of Natural Resources</td> <td>ARE Agricultural & Resource Economics</td> <td>California Department of Wate..</td> <td>nan      </td> <td>nan      </td> <td>$248,027 </td>\n",
       "        </tr>\n",
       "    </tbody>\n",
       "        <tr>\n",
       "            <td>Colleges      </td> <td>CNR College of Natural Resources</td> <td>ARE Agricultural & Resource Economics</td> <td>California Dried Plum Board    </td> <td>$53,172  </td> <td>$54,541  </td> <td>$55,952  </td>\n",
       "        </tr>\n",
       "    </tbody>\n",
       "</table>\n",
       "<p>... (2852 rows omitted)</p"
      ],
      "text/plain": [
       "<IPython.core.display.HTML object>"
      ]
     },
     "metadata": {},
     "output_type": "display_data"
    }
   ],
   "source": [
    "# 10/08 Note: research_fund_comb.csv is a complete csv of the initial pdf file \n",
    "combined_t = Table.read_table('data/research_fund_comb.csv')\n",
    "combined_t.show(20)"
   ]
  },
  {
   "cell_type": "code",
   "execution_count": 21,
   "metadata": {
    "collapsed": false
   },
   "outputs": [
    {
     "data": {
      "text/html": [
       "<table border=\"1\" class=\"dataframe\">\n",
       "    <thead>\n",
       "        <tr>\n",
       "            <th>Sponsor Class</th> <th>Sponsor Category</th> <th>Sponsor Type</th> <th>Sponsor Code</th> <th>Sponsor</th> <th>Sponsor Acronym</th>\n",
       "        </tr>\n",
       "    </thead>\n",
       "    <tbody>\n",
       "        <tr>\n",
       "            <td>Federal      </td> <td>Other Federal Category</td> <td>All Other Federal</td> <td>150         </td> <td>CIA Central Intelligence Agency               </td> <td>CIA            </td>\n",
       "        </tr>\n",
       "    </tbody>\n",
       "        <tr>\n",
       "            <td>Federal      </td> <td>Other Federal Category</td> <td>All Other Federal</td> <td>5510        </td> <td>Federal Mediation & Conciliation Service      </td> <td>FMCS           </td>\n",
       "        </tr>\n",
       "    </tbody>\n",
       "        <tr>\n",
       "            <td>Federal      </td> <td>Other Federal Category</td> <td>All Other Federal</td> <td>5440        </td> <td>National Commission on Air Quality            </td> <td>nan            </td>\n",
       "        </tr>\n",
       "    </tbody>\n",
       "        <tr>\n",
       "            <td>Federal      </td> <td>Other Federal Category</td> <td>All Other Federal</td> <td>5350        </td> <td>VA Department of Veterans Affairs             </td> <td>VA             </td>\n",
       "        </tr>\n",
       "    </tbody>\n",
       "        <tr>\n",
       "            <td>Federal      </td> <td>Other Federal Category</td> <td>All Other Federal</td> <td>5325        </td> <td>Smithsonian - National Museum Natural History </td> <td>nan            </td>\n",
       "        </tr>\n",
       "    </tbody>\n",
       "        <tr>\n",
       "            <td>Federal      </td> <td>Other Federal Category</td> <td>All Other Federal</td> <td>5305        </td> <td>Smithsonian - Office of Fellowships & Grants  </td> <td>nan            </td>\n",
       "        </tr>\n",
       "    </tbody>\n",
       "        <tr>\n",
       "            <td>Federal      </td> <td>Other Federal Category</td> <td>All Other Federal</td> <td>5302        </td> <td>Smithsonian - Office of Environmental Sciences</td> <td>nan            </td>\n",
       "        </tr>\n",
       "    </tbody>\n",
       "        <tr>\n",
       "            <td>Federal      </td> <td>Other Federal Category</td> <td>All Other Federal</td> <td>5301        </td> <td>Smithsonian Institution                       </td> <td>nan            </td>\n",
       "        </tr>\n",
       "    </tbody>\n",
       "        <tr>\n",
       "            <td>Federal      </td> <td>Other Federal Category</td> <td>All Other Federal</td> <td>5290        </td> <td>National Archives and Records Administration  </td> <td>nan            </td>\n",
       "        </tr>\n",
       "    </tbody>\n",
       "        <tr>\n",
       "            <td>Federal      </td> <td>Other Federal Category</td> <td>All Other Federal</td> <td>5285        </td> <td>SBA Small Business Administration             </td> <td>SBA            </td>\n",
       "        </tr>\n",
       "    </tbody>\n",
       "</table>\n",
       "<p>... (7202 rows omitted)</p"
      ],
      "text/plain": [
       "Sponsor Class | Sponsor Category       | Sponsor Type      | Sponsor Code | Sponsor                                        | Sponsor Acronym\n",
       "Federal       | Other Federal Category | All Other Federal | 150          | CIA Central Intelligence Agency                | CIA\n",
       "Federal       | Other Federal Category | All Other Federal | 5510         | Federal Mediation & Conciliation Service       | FMCS\n",
       "Federal       | Other Federal Category | All Other Federal | 5440         | National Commission on Air Quality             | nan\n",
       "Federal       | Other Federal Category | All Other Federal | 5350         | VA Department of Veterans Affairs              | VA\n",
       "Federal       | Other Federal Category | All Other Federal | 5325         | Smithsonian - National Museum Natural History  | nan\n",
       "Federal       | Other Federal Category | All Other Federal | 5305         | Smithsonian - Office of Fellowships & Grants   | nan\n",
       "Federal       | Other Federal Category | All Other Federal | 5302         | Smithsonian - Office of Environmental Sciences | nan\n",
       "Federal       | Other Federal Category | All Other Federal | 5301         | Smithsonian Institution                        | nan\n",
       "Federal       | Other Federal Category | All Other Federal | 5290         | National Archives and Records Administration   | nan\n",
       "Federal       | Other Federal Category | All Other Federal | 5285         | SBA Small Business Administration              | SBA\n",
       "... (7202 rows omitted)"
      ]
     },
     "execution_count": 21,
     "metadata": {},
     "output_type": "execute_result"
    }
   ],
   "source": [
    "# 10/09 Note: All sponsors downloaded from the Cal Phoebe site \n",
    "phoebe = Table.read_table(\"data/PhoebeSearchResults.csv\")\n",
    "phoebe"
   ]
  },
  {
   "cell_type": "code",
   "execution_count": 22,
   "metadata": {
    "collapsed": false
   },
   "outputs": [
    {
     "data": {
      "text/html": [
       "<table border=\"1\" class=\"dataframe\">\n",
       "    <thead>\n",
       "        <tr>\n",
       "            <th>Sponsor Class</th> <th>Sponsor Category</th> <th>Sponsor Type</th> <th>Sponsor Code</th> <th>Sponsor</th> <th>Sponsor Acronym</th>\n",
       "        </tr>\n",
       "    </thead>\n",
       "    <tbody>\n",
       "        <tr>\n",
       "            <td>Not for Profit</td> <td>Business Related Nonprofit Institutes and Associat</td> <td>Foreign Trade Associations</td> <td>4591        </td> <td>Stifterverband fur die Deutsch</td> <td>nan            </td>\n",
       "        </tr>\n",
       "    </tbody>\n",
       "</table>"
      ],
      "text/plain": [
       "Sponsor Class  | Sponsor Category                                   | Sponsor Type               | Sponsor Code | Sponsor                        | Sponsor Acronym\n",
       "Not for Profit | Business Related Nonprofit Institutes and Associat | Foreign Trade Associations | 4591         | Stifterverband fur die Deutsch | nan"
      ]
     },
     "execution_count": 22,
     "metadata": {},
     "output_type": "execute_result"
    }
   ],
   "source": [
    "phoebe.where('Sponsor', 'Stifterverband fur die Deutsch')"
   ]
  },
  {
   "cell_type": "code",
   "execution_count": 12,
   "metadata": {
    "collapsed": false
   },
   "outputs": [
    {
     "data": {
      "text/html": [
       "<table border=\"1\" class=\"dataframe\">\n",
       "    <thead>\n",
       "        <tr>\n",
       "            <th>Sponsor Class</th> <th>Sponsor Category</th> <th>Sponsor Type</th> <th>Sponsor Code</th> <th>Sponsor</th> <th>Sponsor Acronym</th> <th>SponsorName_trunc</th>\n",
       "        </tr>\n",
       "    </thead>\n",
       "    <tbody>\n",
       "        <tr>\n",
       "            <td>Federal      </td> <td>Other Federal Category</td> <td>All Other Federal</td> <td>000150      </td> <td>CIA Central Intelligence Agency               </td> <td>CIA            </td> <td>CIA Central Intelligence Age</td>\n",
       "        </tr>\n",
       "    </tbody>\n",
       "        <tr>\n",
       "            <td>Federal      </td> <td>Other Federal Category</td> <td>All Other Federal</td> <td>005510      </td> <td>Federal Mediation & Conciliation Service      </td> <td>FMCS           </td> <td>Federal Mediation & Concilia</td>\n",
       "        </tr>\n",
       "    </tbody>\n",
       "        <tr>\n",
       "            <td>Federal      </td> <td>Other Federal Category</td> <td>All Other Federal</td> <td>005440      </td> <td>National Commission on Air Quality            </td> <td>nan            </td> <td>National Commission on Air Q</td>\n",
       "        </tr>\n",
       "    </tbody>\n",
       "        <tr>\n",
       "            <td>Federal      </td> <td>Other Federal Category</td> <td>All Other Federal</td> <td>005350      </td> <td>VA Department of Veterans Affairs             </td> <td>VA             </td> <td>VA Department of Veterans Af</td>\n",
       "        </tr>\n",
       "    </tbody>\n",
       "        <tr>\n",
       "            <td>Federal      </td> <td>Other Federal Category</td> <td>All Other Federal</td> <td>005325      </td> <td>Smithsonian - National Museum Natural History </td> <td>nan            </td> <td>Smithsonian - National Museu</td>\n",
       "        </tr>\n",
       "    </tbody>\n",
       "        <tr>\n",
       "            <td>Federal      </td> <td>Other Federal Category</td> <td>All Other Federal</td> <td>005305      </td> <td>Smithsonian - Office of Fellowships & Grants  </td> <td>nan            </td> <td>Smithsonian - Office of Fell</td>\n",
       "        </tr>\n",
       "    </tbody>\n",
       "        <tr>\n",
       "            <td>Federal      </td> <td>Other Federal Category</td> <td>All Other Federal</td> <td>005302      </td> <td>Smithsonian - Office of Environmental Sciences</td> <td>nan            </td> <td>Smithsonian - Office of Envi</td>\n",
       "        </tr>\n",
       "    </tbody>\n",
       "        <tr>\n",
       "            <td>Federal      </td> <td>Other Federal Category</td> <td>All Other Federal</td> <td>005301      </td> <td>Smithsonian Institution                       </td> <td>nan            </td> <td>Smithsonian Institution     </td>\n",
       "        </tr>\n",
       "    </tbody>\n",
       "        <tr>\n",
       "            <td>Federal      </td> <td>Other Federal Category</td> <td>All Other Federal</td> <td>005290      </td> <td>National Archives and Records Administration  </td> <td>nan            </td> <td>National Archives and Record</td>\n",
       "        </tr>\n",
       "    </tbody>\n",
       "        <tr>\n",
       "            <td>Federal      </td> <td>Other Federal Category</td> <td>All Other Federal</td> <td>005285      </td> <td>SBA Small Business Administration             </td> <td>SBA            </td> <td>SBA Small Business Administr</td>\n",
       "        </tr>\n",
       "    </tbody>\n",
       "</table>\n",
       "<p>... (7202 rows omitted)</p"
      ],
      "text/plain": [
       "Sponsor Class | Sponsor Category       | Sponsor Type      | Sponsor Code | Sponsor                                        | Sponsor Acronym | SponsorName_trunc\n",
       "Federal       | Other Federal Category | All Other Federal | 000150       | CIA Central Intelligence Agency                | CIA             | CIA Central Intelligence Age\n",
       "Federal       | Other Federal Category | All Other Federal | 005510       | Federal Mediation & Conciliation Service       | FMCS            | Federal Mediation & Concilia\n",
       "Federal       | Other Federal Category | All Other Federal | 005440       | National Commission on Air Quality             | nan             | National Commission on Air Q\n",
       "Federal       | Other Federal Category | All Other Federal | 005350       | VA Department of Veterans Affairs              | VA              | VA Department of Veterans Af\n",
       "Federal       | Other Federal Category | All Other Federal | 005325       | Smithsonian - National Museum Natural History  | nan             | Smithsonian - National Museu\n",
       "Federal       | Other Federal Category | All Other Federal | 005305       | Smithsonian - Office of Fellowships & Grants   | nan             | Smithsonian - Office of Fell\n",
       "Federal       | Other Federal Category | All Other Federal | 005302       | Smithsonian - Office of Environmental Sciences | nan             | Smithsonian - Office of Envi\n",
       "Federal       | Other Federal Category | All Other Federal | 005301       | Smithsonian Institution                        | nan             | Smithsonian Institution\n",
       "Federal       | Other Federal Category | All Other Federal | 005290       | National Archives and Records Administration   | nan             | National Archives and Record\n",
       "Federal       | Other Federal Category | All Other Federal | 005285       | SBA Small Business Administration              | SBA             | SBA Small Business Administr\n",
       "... (7202 rows omitted)"
      ]
     },
     "execution_count": 12,
     "metadata": {},
     "output_type": "execute_result"
    }
   ],
   "source": [
    "phoebe_trunc = phoebe.with_column(\"SponsorName_trunc\", \n",
    "                                 phoebe.apply(lambda x: x[0:28], \"Sponsor\"))\n",
    "phoebe_trunc"
   ]
  },
  {
   "cell_type": "code",
   "execution_count": 13,
   "metadata": {
    "collapsed": false
   },
   "outputs": [
    {
     "data": {
      "text/html": [
       "<table border=\"1\" class=\"dataframe\">\n",
       "    <thead>\n",
       "        <tr>\n",
       "            <th>﻿Control Unit</th> <th>Division</th> <th>Department</th> <th>Direct Sponsor</th> <th>2014</th> <th>2015</th> <th>2016</th>\n",
       "        </tr>\n",
       "    </thead>\n",
       "    <tbody>\n",
       "        <tr>\n",
       "            <td>Campus Support</td> <td>Vice Chancellor - Administration</td> <td>Finance                          </td> <td>LBNL Lawrence Berkeley Nati </td> <td>$75,000  </td> <td>$400,000 </td> <td>nan      </td>\n",
       "        </tr>\n",
       "    </tbody>\n",
       "        <tr>\n",
       "            <td>Campus Support</td> <td>Vice Chancellor - Administration</td> <td>Finance                          </td> <td>SAMHSA Center for Substanc  </td> <td>$0       </td> <td>$0       </td> <td>nan      </td>\n",
       "        </tr>\n",
       "    </tbody>\n",
       "        <tr>\n",
       "            <td>Campus Support</td> <td>Vice Chancellor - Administration</td> <td>Finance                          </td> <td>UC Office of the President  </td> <td>$0       </td> <td>nan      </td> <td>nan      </td>\n",
       "        </tr>\n",
       "    </tbody>\n",
       "        <tr>\n",
       "            <td>Campus Support</td> <td>Vice Chancellor - Administration</td> <td>Information Services & Technology</td> <td>Andrew W Mellon Foundation  </td> <td>$150,000 </td> <td>$0       </td> <td>nan      </td>\n",
       "        </tr>\n",
       "    </tbody>\n",
       "        <tr>\n",
       "            <td>Campus Support</td> <td>Vice Chancellor - Administration</td> <td>Information Services & Technology</td> <td>LYRASIS                     </td> <td>nan      </td> <td>$100,018 </td> <td>$70,854  </td>\n",
       "        </tr>\n",
       "    </tbody>\n",
       "        <tr>\n",
       "            <td>Campus Support</td> <td>Vice Chancellor - Administration</td> <td>Information Services & Technology</td> <td>NSF National Science Founda </td> <td>nan      </td> <td>nan      </td> <td>$399,446 </td>\n",
       "        </tr>\n",
       "    </tbody>\n",
       "        <tr>\n",
       "            <td>Campus Support</td> <td>Vice Chancellor - Administration</td> <td>International House              </td> <td>Middlebury College          </td> <td>nan      </td> <td>$10,000  </td> <td>nan      </td>\n",
       "        </tr>\n",
       "    </tbody>\n",
       "        <tr>\n",
       "            <td>Campus Support</td> <td>Vice Chancellor - Administration</td> <td>Public Safety                    </td> <td>Bay Areas Urban Area Securit</td> <td>$327,226 </td> <td>$30,145  </td> <td>nan      </td>\n",
       "        </tr>\n",
       "    </tbody>\n",
       "        <tr>\n",
       "            <td>Campus Support</td> <td>Vice Chancellor - Real Estate   </td> <td>Physical Plant Campus Services   </td> <td>California Emergency Manage </td> <td>nan      </td> <td>nan      </td> <td>$573,828 </td>\n",
       "        </tr>\n",
       "    </tbody>\n",
       "        <tr>\n",
       "            <td>Colleges      </td> <td>CNR College of Natural Resources</td> <td>Null                             </td> <td>Abt Associates, Inc         </td> <td>$73,942  </td> <td>nan      </td> <td>nan      </td>\n",
       "        </tr>\n",
       "    </tbody>\n",
       "</table>\n",
       "<p>... (2862 rows omitted)</p"
      ],
      "text/plain": [
       "﻿Control Unit  | Division                         | Department                        | Direct Sponsor               | 2014      | 2015      | 2016\n",
       "Campus Support | Vice Chancellor - Administration | Finance                           | LBNL Lawrence Berkeley Nati  | $75,000   | $400,000  | nan\n",
       "Campus Support | Vice Chancellor - Administration | Finance                           | SAMHSA Center for Substanc   | $0        | $0        | nan\n",
       "Campus Support | Vice Chancellor - Administration | Finance                           | UC Office of the President   | $0        | nan       | nan\n",
       "Campus Support | Vice Chancellor - Administration | Information Services & Technology | Andrew W Mellon Foundation   | $150,000  | $0        | nan\n",
       "Campus Support | Vice Chancellor - Administration | Information Services & Technology | LYRASIS                      | nan       | $100,018  | $70,854\n",
       "Campus Support | Vice Chancellor - Administration | Information Services & Technology | NSF National Science Founda  | nan       | nan       | $399,446\n",
       "Campus Support | Vice Chancellor - Administration | International House               | Middlebury College           | nan       | $10,000   | nan\n",
       "Campus Support | Vice Chancellor - Administration | Public Safety                     | Bay Areas Urban Area Securit | $327,226  | $30,145   | nan\n",
       "Campus Support | Vice Chancellor - Real Estate    | Physical Plant Campus Services    | California Emergency Manage  | nan       | nan       | $573,828\n",
       "Colleges       | CNR College of Natural Resources | Null                              | Abt Associates, Inc          | $73,942   | nan       | nan\n",
       "... (2862 rows omitted)"
      ]
     },
     "execution_count": 13,
     "metadata": {},
     "output_type": "execute_result"
    }
   ],
   "source": [
    "combined_clean_name = combined_t.with_column('Direct Sponsor', \n",
    "                                        combined_t.apply(lambda x: x.split(\".\")[0], 'Direct Sponsor'))\n",
    "combined_clean_name"
   ]
  },
  {
   "cell_type": "code",
   "execution_count": 14,
   "metadata": {
    "collapsed": false
   },
   "outputs": [],
   "source": [
    "# combined_clean_name.join(\"Direct Sponsor\", phoebe_trunc, \"SponsorName_trunc\")\n",
    "# 10/09 Note: Finding the corresponding \"complete\" names of sponsors\n",
    "extended_names = {}\n",
    "remnants = {}\n",
    "for i in range(combined_clean_name.num_rows):\n",
    "    source_name = combined_clean_name.column('Direct Sponsor')[i]\n",
    "    target = phoebe_trunc.column(\"Sponsor\")\n",
    "    for j in range(len(target)):\n",
    "        target_name = target[j]\n",
    "        if (i) not in extended_names.keys() and source_name in target_name:\n",
    "            extended_names[(i)] = target_name"
   ]
  },
  {
   "cell_type": "code",
   "execution_count": 15,
   "metadata": {
    "collapsed": false
   },
   "outputs": [
    {
     "data": {
      "text/plain": [
       "{0: 'LBNL Lawrence Berkeley National Laboratory',\n",
       " 1: 'SAMHSA Center for Substance Abuse Prevention',\n",
       " 2: 'UC Office of the President',\n",
       " 3: 'Andrew W Mellon Foundation',\n",
       " 4: 'LYRASIS',\n",
       " 5: 'NSF National Science Foundation',\n",
       " 6: 'Middlebury College',\n",
       " 7: 'Bay Areas Urban Area Security Initiative',\n",
       " 8: 'California Emergency Management Agency',\n",
       " 9: 'Abt Associates, Inc.',\n",
       " 10: 'California Department of Forestry and Fire Protection',\n",
       " 11: 'NIH Office of the Director',\n",
       " 12: 'Oregon, State of',\n",
       " 13: 'Research Triangle Institute',\n",
       " 14: 'UC Davis',\n",
       " 15: 'UC San Francisco',\n",
       " 16: 'USDA Forest Service',\n",
       " 17: 'California Department of Industrial Relations',\n",
       " 18: 'California Department of Water Resources',\n",
       " 19: 'California Dried Plum Board',\n",
       " 20: 'California Energy Commission',\n",
       " 21: 'California Polytechnic State University Foundation',\n",
       " 22: 'California Public Utilities Commission',\n",
       " 23: 'Cotton Inc.',\n",
       " 24: 'California Department of Resources Recycling and Recovery (DO NOT USE - USE 00F428 Instead)',\n",
       " 25: 'Ecoagriculture International (Incl Ecoagriculture Partners)',\n",
       " 26: 'Hilmar Cheese Company',\n",
       " 27: 'Iowa State University',\n",
       " 28: 'NSF National Science Foundation',\n",
       " 29: 'Pennsylvania State University (incl Penn State Research Fdn)',\n",
       " 30: 'Russell Sage Foundation',\n",
       " 31: 'Stanford University',\n",
       " 32: 'UC Davis',\n",
       " 33: 'UC MEXUS',\n",
       " 34: 'University Corporation at Monterey Bay',\n",
       " 35: 'University of Georgia',\n",
       " 36: 'University of Kentucky/University of Kentucky Research Foundation',\n",
       " 37: 'USDA Economics Research Service',\n",
       " 38: 'American Dietetic Association',\n",
       " 39: 'Battelle Memorial Institute',\n",
       " 40: 'Baylor College of Medicine',\n",
       " 41: 'California Department of Public Health',\n",
       " 42: 'California Endowment',\n",
       " 43: 'California Energy Commission',\n",
       " 44: 'California Food Policy Advocates, Inc.',\n",
       " 45: 'Clarence E. Heller Charitable Foundation',\n",
       " 46: 'Contra Costa Regional Health Foundation',\n",
       " 47: 'DOE Department of Energy',\n",
       " 48: 'East Bay Community Foundation',\n",
       " 49: 'Group Health Cooperative (incl Center for Community Health & Evaluation)',\n",
       " 50: 'John D and Catherine T MacArthur Foundation',\n",
       " 51: 'Kaiser Foundation Health Plan Inc.',\n",
       " 52: 'Kaiser Permanente Division of Research',\n",
       " 53: 'Los Gatos Research, Inc.',\n",
       " 54: 'National Geographic Society',\n",
       " 55: 'Nature Conservancy',\n",
       " 56: 'NIH National Center on Minority Health & Health Disparities',\n",
       " 57: 'Public Health Institute',\n",
       " 58: 'Robert Wood Johnson Foundation',\n",
       " 59: 'Rockville Institute',\n",
       " 60: 'Schmidt Family Foundation/11th Hour Project',\n",
       " 61: 'Spencer Foundation',\n",
       " 62: 'UC Agriculture and Natural Resources',\n",
       " 63: 'UC Davis',\n",
       " 64: 'UC Los Angeles',\n",
       " 65: 'Medical University of South Carolina',\n",
       " 66: 'USAID Agency for International Development',\n",
       " 67: 'USDA Forest Service',\n",
       " 68: 'USDA Pacific Southwest Forest/Range Experiment Station',\n",
       " 69: 'USDI Bureau of Land Management',\n",
       " 70: 'USDI Geological Survey',\n",
       " 71: 'USDI National Park Service',\n",
       " 72: 'Westat',\n",
       " 73: 'All Power Labs',\n",
       " 74: 'Areva Group',\n",
       " 75: 'Bay Area Air Quality Management District',\n",
       " 76: 'California Air Resources Board',\n",
       " 77: 'California High-Speed Rail Authority',\n",
       " 78: 'California Public Utilities Commission',\n",
       " 79: 'EPA Environmental Protection Agency',\n",
       " 80: 'Forterra NW',\n",
       " 81: 'Harvard University',\n",
       " 82: 'Humanity United',\n",
       " 83: 'Instituto Mexicano Del Petroleo',\n",
       " 84: 'Korea Electronics Technology Institute',\n",
       " 85: 'LBNL Lawrence Berkeley National Laboratory',\n",
       " 86: 'Link Foundation',\n",
       " 87: 'National Geographic Society',\n",
       " 88: 'Nature Conservancy',\n",
       " 89: 'NSF National Science Foundation',\n",
       " 90: 'Partners of the Americas, Inc.',\n",
       " 91: 'Pennsylvania State University (incl Penn State Research Fdn)',\n",
       " 92: 'Rainforest Foundation Norway',\n",
       " 93: 'Rockefeller Brothers Fund',\n",
       " 94: 'SEEO, Inc.',\n",
       " 95: 'UC Merced',\n",
       " 96: 'Academy of Applied Science',\n",
       " 97: 'Addgene, Inc.',\n",
       " 98: 'Aerosol Dynamics, Inc.',\n",
       " 99: 'Alfred P. Sloan Foundation',\n",
       " 100: 'American Vineyard Foundation',\n",
       " 101: 'Australian National University',\n",
       " 102: 'Bay Area Environmental Research Institute',\n",
       " 103: 'C&A Foundation',\n",
       " 104: 'California Air Resources Board',\n",
       " 105: 'California Breast Cancer Research Program',\n",
       " 106: 'California Cherry Marketing Program',\n",
       " 107: 'California Department of Fish and Wildlife',\n",
       " 108: 'California Department of Food and Agriculture',\n",
       " 109: 'California Department of Forestry and Fire Protection',\n",
       " 110: 'California Department of Parks and Recreation',\n",
       " 111: 'California Department of Pesticide Regulation',\n",
       " 112: 'California Department of Water Resources',\n",
       " 113: 'California Energy Commission',\n",
       " 114: 'California Grape & Tree Fruit League',\n",
       " 115: 'California Institute for Water Resources',\n",
       " 116: 'California Natural Resources Agency/Miscellaneous Agencies',\n",
       " 117: 'California Office of Environmental Health Hazard Assessment',\n",
       " 118: 'California Olive Committee',\n",
       " 119: 'California Pistachio Research Board',\n",
       " 120: 'California Raisin Marketing Board',\n",
       " 121: 'California Redwoods Association',\n",
       " 122: 'California Strawberry Commission',\n",
       " 123: 'California Table Grape Commission',\n",
       " 124: 'California Walnut Board (Frmly Walnut Marketing Board)',\n",
       " 125: 'Camille & Henry Dreyfus Foundation',\n",
       " 126: 'Cary Institute of Ecosystem Studies',\n",
       " 127: 'Change Happens Foundation',\n",
       " 128: 'Colorado State University',\n",
       " 129: 'Contra Costa County',\n",
       " 130: 'Cornell University',\n",
       " 131: 'CS Fund',\n",
       " 132: 'DA ARO Army Research Office',\n",
       " 133: 'David and Lucile Packard Foundation',\n",
       " 134: 'DOE Department of Energy',\n",
       " 135: 'East Bay Regional Park District',\n",
       " 136: 'Environmental Defense Fund',\n",
       " 137: 'EPA Environmental Protection Agency',\n",
       " 138: 'Geosyntec Consultants',\n",
       " 139: 'Gordon and Betty Moore Foundation',\n",
       " 140: 'Indiana State University',\n",
       " 141: 'International Community Foundation',\n",
       " 142: 'JiJi Foundation',\n",
       " 143: 'DO NOT USE (Use Code 00FC57) - LLNL Lawrence Livermore National Laboratory',\n",
       " 144: 'LBNL Lawrence Berkeley National Laboratory',\n",
       " 145: 'Marin Agricultural Land Trust',\n",
       " 146: 'Michigan State University',\n",
       " 147: 'Ministry of Science, Education and Sports of the Republic of Croatia',\n",
       " 148: 'NASA National Aeronautics and Space Administration Ames University Consortium',\n",
       " 149: 'National Academies',\n",
       " 150: 'National Geographic Society',\n",
       " 151: 'NIH National Institute of General Medical Sciences',\n",
       " 152: 'NIH National Institute of Neurological Disorders and Stroke',\n",
       " 153: 'North Carolina State University',\n",
       " 154: 'NSF National Science Foundation',\n",
       " 155: 'Ohio State University (Incl. Research Foundation)',\n",
       " 156: 'Oregon State University',\n",
       " 157: 'Oregon Sweet Cherry Commission',\n",
       " 158: 'Pacific Forest and Watershed Land Stewardship Council',\n",
       " 159: 'Panthera Corporation',\n",
       " 160: 'Pennsylvania State University (incl Penn State Research Fdn)',\n",
       " 161: 'Point Blue Conservation Science',\n",
       " 162: 'Schmidt Family Foundation/11th Hour Project',\n",
       " 163: 'Sigma Delta Epsilon Graduate Women in Science',\n",
       " 164: 'Silent Spring Institute',\n",
       " 165: 'Society for Conservation Biology',\n",
       " 166: 'Southern California Coastal Water Research Project',\n",
       " 167: 'State University of New York',\n",
       " 168: 'Tejon Ranch Conservancy',\n",
       " 169: 'Texas A&M University',\n",
       " 170: 'The Lia Fund',\n",
       " 171: 'The Rathmann Family Foundation',\n",
       " 172: 'Tides Center',\n",
       " 173: 'UC Agriculture and Natural Resources',\n",
       " 174: 'UC Davis',\n",
       " 175: 'UC MEXUS',\n",
       " 176: 'UC Riverside',\n",
       " 177: 'UC San Francisco',\n",
       " 178: 'UC Santa Barbara',\n",
       " 179: 'UC Santa Cruz',\n",
       " 180: 'UC Sea Grant College Program',\n",
       " 181: 'University of Aberdeen',\n",
       " 182: 'University of Alaska',\n",
       " 183: 'University of Alberta',\n",
       " 184: 'University of Colorado System',\n",
       " 185: 'University of Florida',\n",
       " 186: 'University of Massachusetts Amherst',\n",
       " 187: 'University of Miami',\n",
       " 188: 'University of Nevada',\n",
       " 189: 'University of New Hampshire',\n",
       " 190: 'University of Puerto Rico',\n",
       " 191: 'University of Southern California',\n",
       " 192: 'University of Washington',\n",
       " 193: 'US-Israel Binational Science Foundation',\n",
       " 194: 'USDA Agricultural Research Service',\n",
       " 195: 'USDA Animal and Plant Health Inspection Service',\n",
       " 196: 'USDA Forest Service',\n",
       " 197: 'USDA National Institute for Food and Agriculture',\n",
       " 198: 'USDA Natural Resources Conservation Service',\n",
       " 199: 'USDA Pacific Southwest Forest/Range Experiment Station',\n",
       " 200: 'USDI Bureau of Land Management',\n",
       " 201: 'USDI Geological Survey',\n",
       " 202: 'USDI National Park Service',\n",
       " 203: 'Utah State University (incl Western SARE)',\n",
       " 204: 'Walt Disney Company',\n",
       " 205: 'Washington State University',\n",
       " 206: 'Xerces Society, Inc (incl. Vertebrate Conservation)',\n",
       " 207: 'Addgene, Inc.',\n",
       " 208: 'American Cancer Society, Inc.',\n",
       " 209: 'American Diabetes Association',\n",
       " 210: 'American Federation for Aging Research',\n",
       " 211: 'American Heart Association Western States (Cal Affiliate)',\n",
       " 212: 'Avon Products Foundation, Inc.',\n",
       " 213: 'BASF Corporation',\n",
       " 214: 'Bayer AG',\n",
       " 215: 'BioTime, Inc.',\n",
       " 216: 'California Breast Cancer Research Program',\n",
       " 217: \"Children's Hospital and Research Center at Oakland\",\n",
       " 218: 'Cleave Biosciences',\n",
       " 219: 'Coriell Institute for Medical Research',\n",
       " 220: 'CymaBay Therapeutics, Inc.',\n",
       " 221: 'DA Congressionally Directed Medical Research Program',\n",
       " 222: 'Eli Lilly and Company',\n",
       " 223: 'Ellison Medical Foundation',\n",
       " 224: 'Genentech, Inc.',\n",
       " 225: 'Gladstone Institutes',\n",
       " 226: 'Glenn Foundation for Medical Research',\n",
       " 227: 'KangLaiTe USA',\n",
       " 228: 'Louisiana State University',\n",
       " 229: 'Max Planck Institute of Molecular Cell Biology and Genetics',\n",
       " 230: 'Mount Sinai Medical Center',\n",
       " 231: 'NIH National Cancer Institute',\n",
       " 232: 'NIH National Institute of Diabetes and Digestive and Kidney Diseases',\n",
       " 233: 'NIH National Institute of General Medical Sciences',\n",
       " 234: 'NIH National Institute on Aging',\n",
       " 235: 'NIH National Institute on Alcohol Abuse & Alcoholism',\n",
       " 236: 'NSF National Science Foundation',\n",
       " 237: 'UC Davis',\n",
       " 238: 'UC San Diego',\n",
       " 239: 'UC San Francisco',\n",
       " 240: 'University of North Carolina at Chapel Hill',\n",
       " 241: 'Yale University',\n",
       " 242: 'Addgene, Inc.',\n",
       " 243: 'Alfred P. Sloan Foundation',\n",
       " 244: 'Altria Group, Inc.',\n",
       " 245: 'American Society of Plant Biologists',\n",
       " 246: 'Benson Hill Biosystems, Inc.',\n",
       " 247: 'Burroughs Wellcome Fund',\n",
       " 248: 'California Department of Food and Agriculture',\n",
       " 249: 'Carnegie Institution',\n",
       " 250: 'DA Army Corps of Engineers/Omaha District',\n",
       " 251: 'Damon Runyon Cancer Research Foundation',\n",
       " 252: 'DOD ONR Office of Naval Research',\n",
       " 253: 'DOE Department of Energy',\n",
       " 254: 'Duke University',\n",
       " 255: 'EPRI Electric Power Research Institute',\n",
       " 256: 'French National Institute for Agricultural Research',\n",
       " 257: 'Gordon and Betty Moore Foundation',\n",
       " 258: 'Helen Hay Whitney Foundation',\n",
       " 259: 'DO NOT USE (Use 00VDTV) Human Frontier Science Program Organization',\n",
       " 260: 'Institut Pasteur',\n",
       " 261: 'Iowa State University',\n",
       " 262: 'Kyoto University',\n",
       " 263: 'LBNL Lawrence Berkeley National Laboratory',\n",
       " 264: 'Life Sciences Research Foundation',\n",
       " 265: 'NIH National Cancer Institute',\n",
       " 266: 'NIH National Institute of Allergy & Infectious Diseases',\n",
       " 267: 'NIH National Institute of General Medical Sciences',\n",
       " 268: 'NIH National Institutes of Health - Miscellaneous',\n",
       " 269: 'NSF National Science Foundation',\n",
       " 270: 'Oak Ridge National Laboratory',\n",
       " 271: 'Ohio University',\n",
       " 272: 'Oklahoma State University',\n",
       " 273: 'Oregon State University',\n",
       " 274: 'Pear Pest Management Research Fund',\n",
       " 275: 'Pew Charitable Trusts',\n",
       " 276: 'RIKEN',\n",
       " 277: 'Rockefeller University',\n",
       " 278: 'Spanish National Research Council',\n",
       " 279: 'Swiss Federal Institute of Technology in Zurich',\n",
       " 280: 'The Technical University of Denmark',\n",
       " 281: 'Two Blades Foundation',\n",
       " 282: 'UC Agriculture and Natural Resources',\n",
       " 283: 'UC California HIV/AIDS Research Program',\n",
       " 284: 'UC Davis',\n",
       " 285: 'UC Irvine',\n",
       " 286: 'UC MEXUS',\n",
       " 287: 'UC Riverside',\n",
       " 288: 'UC San Diego',\n",
       " 289: 'UC San Francisco',\n",
       " 290: 'University of Florida',\n",
       " 291: 'University of Illinois',\n",
       " 292: 'University of Massachusetts Amherst',\n",
       " 293: 'University of Michigan',\n",
       " 294: 'University of Minnesota',\n",
       " 295: 'University of Paris',\n",
       " 296: 'University of Tennessee',\n",
       " 297: 'University of Texas at Austin',\n",
       " 298: 'University of Wuerzburg',\n",
       " 299: 'US-Israel Binational Agricultural Research & Dev Fund (BARD)',\n",
       " 300: 'US-Israel Binational Science Foundation',\n",
       " 301: 'USDA Agricultural Research Service',\n",
       " 302: 'USDA National Institute for Food and Agriculture',\n",
       " 303: 'Vilnius University',\n",
       " 304: 'Washington State University',\n",
       " 305: 'William M. Keck Foundation',\n",
       " 306: 'Camille & Henry Dreyfus Foundation',\n",
       " 307: 'DOE Department of Energy',\n",
       " 308: 'Exxon Mobil Corporation',\n",
       " 309: 'NIH National Institute of General Medical Sciences',\n",
       " 310: 'Addgene, Inc.',\n",
       " 311: 'Alcon Laboratories',\n",
       " 312: 'American Chemical Society',\n",
       " 313: 'Amyris Biotechnologies',\n",
       " 314: 'Anderson Remplex, Inc.',\n",
       " 315: 'Baylor College of Medicine',\n",
       " 316: 'BP Group (BP America, BP Exploration, British Petroleum)',\n",
       " 317: 'Ceramatec, Inc.',\n",
       " 318: 'Chevron Corporation',\n",
       " 319: 'Continental Automotive Systems',\n",
       " 320: 'Cooper Companies, Inc (incl CooperVision, CooperSurgical)',\n",
       " 321: 'DAF AFOSR Air Force Office of Scientific Research',\n",
       " 322: 'Deutsche Forschungsgemeinschaft (German Research Foundation)',\n",
       " 323: 'Device Farm',\n",
       " 324: 'DOD ONR Office of Naval Research',\n",
       " 325: 'DOE Department of Energy',\n",
       " 326: 'Dow Chemical Company',\n",
       " 327: 'Eli Lilly and Company',\n",
       " 328: 'GlaxoSmithKline (Incl Smith Kline Beecham)',\n",
       " 329: 'Harvard University',\n",
       " 330: 'LBNL Lawrence Berkeley National Laboratory',\n",
       " 331: 'Lynntech, Inc.',\n",
       " 332: 'Lyondell Chemical Company',\n",
       " 333: 'Max Kade Foundation',\n",
       " 334: 'MIT Massachusetts Institute of Technology',\n",
       " 335: 'National Academy of Sciences',\n",
       " 336: 'National Polytechnic Institute of Toulouse',\n",
       " 337: 'NIH National Center for Complementary and Integrative Health',\n",
       " 338: 'NREL National Renewable Energy Lab (Midwest Res Inst)',\n",
       " 339: 'NSF National Science Foundation',\n",
       " 340: 'Pacific Northwest National Laboratories',\n",
       " 341: 'Robert Bosch North America',\n",
       " 342: 'Samsung Electronics Company, Ltd.',\n",
       " 343: 'SNL Sandia National Laboratory',\n",
       " 344: 'Stanford University',\n",
       " 345: 'State University of New York',\n",
       " 346: 'UC Davis',\n",
       " 347: 'UC MEXUS',\n",
       " 348: 'UC Riverside',\n",
       " 349: 'UC San Francisco',\n",
       " 350: 'UC Santa Barbara',\n",
       " 351: 'University at Buffalo',\n",
       " 352: 'University of Manchester',\n",
       " 353: 'University of the Basque Country',\n",
       " 354: 'Addgene, Inc.',\n",
       " 355: 'Agilent Technologies',\n",
       " 356: 'Alfred P. Sloan Foundation',\n",
       " 357: \"Alzheimer's Assn (Alzheimer's Disease & Rel Disorders Assn)\",\n",
       " 358: 'American Cancer Society, Inc.',\n",
       " 359: 'American Chemical Society',\n",
       " 360: 'American Heart Association Western States (Cal Affiliate)',\n",
       " 361: 'Arnold and Mabel Beckman Foundation',\n",
       " 362: 'Australian National University',\n",
       " 363: 'BASF Corporation',\n",
       " 364: 'Bay Area Air Quality Management District',\n",
       " 365: 'Brain Research Foundation',\n",
       " 366: 'Burroughs Wellcome Fund',\n",
       " 367: 'Cairn Biosciences, Inc.',\n",
       " 368: 'California Department of Toxic Substances Control',\n",
       " 369: 'Camille & Henry Dreyfus Foundation',\n",
       " 370: 'Canadian Institute for Advanced Research',\n",
       " 371: 'Chevron Corporation',\n",
       " 372: 'Clemson University (incl Clemson Univ Genomics Institute)',\n",
       " 373: 'Colorado Department of Public Health & Environment',\n",
       " 374: 'Colorado State University',\n",
       " 375: 'Cornell University',\n",
       " 376: 'Croucher Foundation',\n",
       " 377: 'DA Army Medical Research and Materiel Command',\n",
       " 378: 'DA ARO Army Research Office',\n",
       " 379: 'DA Congressionally Directed Medical Research Program',\n",
       " 380: 'DAF AFOSR Air Force Office of Scientific Research',\n",
       " 381: 'Dana-Farber Cancer Institute',\n",
       " 382: 'David and Lucile Packard Foundation',\n",
       " 383: 'Department of Homeland Security',\n",
       " 384: 'DO NOT USE (Use 00VDTV) Human Frontier Science Program Organization',\n",
       " 385: 'DOD Defense Threat Reduction Agency',\n",
       " 386: 'DOD Space and Naval Warfare Systems Command',\n",
       " 387: 'DOE Department of Energy',\n",
       " 388: 'Dow Chemical Company',\n",
       " 389: 'Dow Corning Company',\n",
       " 390: 'Eli Lilly and Company',\n",
       " 391: 'Emory University',\n",
       " 392: 'Exxon Mobil Corporation',\n",
       " 393: 'Ford Motor Company',\n",
       " 394: 'Genentech Foundation for Biomedical Sciences',\n",
       " 395: 'Genentech, Inc.',\n",
       " 396: 'GlaxoSmithKline (Incl Smith Kline Beecham)',\n",
       " 397: 'Harvard University',\n",
       " 398: 'Heising-Simons Foundation',\n",
       " 399: 'HJ Science & Technology, Inc.',\n",
       " 400: 'Honda (Honda R&D Americas, Inc.)',\n",
       " 401: 'Hound Labs, Inc.',\n",
       " 402: 'Humboldt-Universitat Zu Berlin',\n",
       " 403: 'Idaho National Laboratory',\n",
       " 404: 'Ishikawajima-Harima Heavy Industries Co Ltd Japan',\n",
       " 405: 'Jane Coffin Childs Memorial Fund for Medical Research',\n",
       " 406: 'Johns Hopkins University',\n",
       " 407: 'Karlsruhe Institute of Technology',\n",
       " 408: 'King Abdulaziz City for Science and Technology',\n",
       " 409: 'King Abdulaziz University',\n",
       " 410: 'LBNL Lawrence Berkeley National Laboratory',\n",
       " 411: 'Leidos, Inc.',\n",
       " 412: 'LG Chem',\n",
       " 413: 'March of Dimes Birth Defects Foundation',\n",
       " 414: 'Medical University of Vienna',\n",
       " 415: 'Membrane Technology and Research, Inc.',\n",
       " 416: 'MIT Massachusetts Institute of Technology',\n",
       " 417: 'Mosaic Materials',\n",
       " 418: 'Nagoya University',\n",
       " 419: 'NASA National Aeronautics and Space Administration Ames University Consortium',\n",
       " 420: 'NASA National Aeronautics and Space Administration Ames University Consortium',\n",
       " 421: 'NASA National Aeronautics and Space Administration Ames University Consortium',\n",
       " 422: 'NASA National Aeronautics and Space Administration Ames University Consortium',\n",
       " 423: 'NASA National Aeronautics and Space Administration Ames University Consortium',\n",
       " 424: 'National Institute for Materials Science',\n",
       " 425: 'Netherlands Organization for Scientific Research',\n",
       " 426: 'NIH National Cancer Institute',\n",
       " 427: 'NIH National Heart, Lung, and Blood Institute',\n",
       " 428: 'NIH National Institute of Allergy & Infectious Diseases',\n",
       " 429: 'NIH National Institute of Biomedical Imaging and Bioengineering',\n",
       " 430: 'NIH National Institute of Diabetes and Digestive and Kidney Diseases',\n",
       " 431: 'NIH National Institute of Environmental Health Sciences',\n",
       " 432: 'NIH National Institute of General Medical Sciences',\n",
       " 433: 'NIH National Institute of Neurological Disorders and Stroke',\n",
       " 434: 'NIH National Institutes of Health - Miscellaneous',\n",
       " 435: 'NIH Office of the Director',\n",
       " 436: 'NOAA National Oceanic & Atmospheric Administration',\n",
       " 437: 'NSF National Science Foundation',\n",
       " 438: 'Oregon Health Sciences University',\n",
       " 439: 'Oregon State University',\n",
       " 440: 'Pennsylvania State University (incl Penn State Research Fdn)',\n",
       " 441: 'Pfizer, Inc.',\n",
       " 442: 'Q-Chem, Inc.',\n",
       " 443: 'Regional Air Quality Council',\n",
       " 444: 'Robert Bosch North America',\n",
       " 445: 'Samsung Electronics Company, Ltd.',\n",
       " 446: 'Seattle Biomedical Research Institute',\n",
       " 447: 'Smithsonian Institution',\n",
       " 448: 'Stanford University',\n",
       " 449: 'UC CRCC  Cancer Research Coordinating Committee',\n",
       " 450: 'UC Los Angeles',\n",
       " 451: 'UC MEXUS',\n",
       " 452: 'UC Santa Cruz',\n",
       " 453: 'University of Almeria',\n",
       " 454: 'University of Central Florida',\n",
       " 455: 'University of Hamburg',\n",
       " 456: 'University of Minnesota',\n",
       " 457: 'University of Missouri (Columbia)',\n",
       " 458: 'University of Texas at Austin',\n",
       " 459: 'University of the Basque Country',\n",
       " 460: 'University of Washington',\n",
       " 461: 'Vietnam National University',\n",
       " 462: 'Virginia Polytechnic Institute and State University',\n",
       " 463: 'WestEd',\n",
       " 464: 'Yeshiva University (Albert Einstein College of Medicine)',\n",
       " 465: 'Addgene, Inc.',\n",
       " 466: 'Agilent Technologies',\n",
       " 467: \"Brigham and Women's Hospital\",\n",
       " 468: 'Celsense, Inc.',\n",
       " 469: 'South Carolina Commission on Higher Education',\n",
       " 470: 'Coriell Institute for Medical Research',\n",
       " 471: 'DAF AFOSR Air Force Office of Scientific Research',\n",
       " 472: 'Dana Foundation',\n",
       " 473: 'Electronics and Telecommunications Research Institute',\n",
       " 474: 'Emory University',\n",
       " 475: 'Georgia Institute of Technology',\n",
       " 476: 'GlaxoSmithKline (Incl Smith Kline Beecham)',\n",
       " 477: 'Gwangju Institute of Science and Technology',\n",
       " 478: 'Harvard University',\n",
       " 479: 'Howard Hughes Medical Institute',\n",
       " 480: 'DO NOT USE (Use 00VDTV) Human Frontier Science Program Organization',\n",
       " 481: 'International Society for Neuroethology',\n",
       " 482: 'Korea University',\n",
       " 483: 'Lankenau Institute for Medical Research',\n",
       " 484: 'LBNL Lawrence Berkeley National Laboratory',\n",
       " 485: 'Microbial Medical, Inc.',\n",
       " 486: 'MIT Massachusetts Institute of Technology',\n",
       " 487: 'NIH National Institute of Allergy & Infectious Diseases',\n",
       " 488: 'NIH National Institute of Biomedical Imaging and Bioengineering',\n",
       " 489: 'NIH National Institute of Dental and Craniofacial Research',\n",
       " 490: 'Northwestern University',\n",
       " 491: 'Novartis Institutes for BioMedical Research',\n",
       " 492: 'NSF National Science Foundation',\n",
       " 493: 'OncoSec Medical Inc.',\n",
       " 494: 'Salk Institute for Biological Studies',\n",
       " 495: 'Stanford University',\n",
       " 496: 'UC San Diego',\n",
       " 497: 'UC San Francisco',\n",
       " 498: 'University of Michigan',\n",
       " 499: 'University of Pennsylvania',\n",
       " 500: 'VentureWell',\n",
       " 501: 'Yamaguchi University',\n",
       " 502: 'Zymergen, Inc.',\n",
       " 503: 'Alfred P. Sloan Foundation',\n",
       " 504: 'Applied Technology Council',\n",
       " 505: 'Automotive Research and Testing Center',\n",
       " 506: 'Bay Area Air Quality Management District',\n",
       " 507: 'Bay Area Rapid Transit',\n",
       " 508: 'Bay Area Toll Authority',\n",
       " 509: 'Booz Allen Hamilton Inc.',\n",
       " 510: 'California Air Resources Board',\n",
       " 511: 'California Department of Motor Vehicles',\n",
       " 512: 'California Department of Transportation',\n",
       " 513: 'California Department of Water Resources',\n",
       " 514: 'California Energy Commission',\n",
       " 515: 'Car2go N.A., LLC',\n",
       " 516: 'Charles Pankow Foundation',\n",
       " 517: 'City and County of San Francisco',\n",
       " 518: 'Colorado School of Mines',\n",
       " 519: 'Colorado State University',\n",
       " 520: 'DA ARO Army Research Office',\n",
       " 521: 'Denso Corporation',\n",
       " 522: 'DOE Department of Energy',\n",
       " 523: 'DOT Federal Highway Administration',\n",
       " 524: 'Duke Energy Business Services LLC',\n",
       " 525: 'Environmental Defense Fund',\n",
       " 526: 'EPRI Electric Power Research Institute',\n",
       " 527: 'Hyundai Business Group (Maxtor, Symbios, Motors)',\n",
       " 528: 'InstroTek, Inc.',\n",
       " 529: 'DO NOT USE (Use Code 00FC57) - LLNL Lawrence Livermore National Laboratory',\n",
       " 530: 'LBNL Lawrence Berkeley National Laboratory',\n",
       " 531: 'Leidos, Inc.',\n",
       " 532: 'Metropolitan Water District of Southern California',\n",
       " 533: 'MINES ParisTech',\n",
       " 534: 'NIH National Institute of Environmental Health Sciences',\n",
       " 535: 'Ninyo & Moore Geotechnical and Environmental Sciences Consultants',\n",
       " 536: 'Norwegian Marine Technology Research Institute',\n",
       " 537: 'NRC Nuclear Regulatory Commission',\n",
       " 538: 'NSF National Science Foundation',\n",
       " 539: 'Oro Loma Sanitary District',\n",
       " 540: 'Samsung Group',\n",
       " 541: 'San Francisco County Transportation Authority',\n",
       " 542: 'San Francisco Estuary Institute',\n",
       " 543: 'Siam Cement Company',\n",
       " 544: 'Siemens Corporation',\n",
       " 545: 'Stanford University',\n",
       " 546: 'Transportation Research Board',\n",
       " 547: 'UC Merced',\n",
       " 548: 'UC San Diego',\n",
       " 549: 'UC Santa Cruz',\n",
       " 550: 'UC Sea Grant College Program',\n",
       " 551: 'University Affiliated Research Center (NASA-Ames)',\n",
       " 552: 'University of Arizona',\n",
       " 553: 'University of Maryland (College Park)',\n",
       " 554: 'University of Nebraska',\n",
       " 555: 'USDI Geological Survey',\n",
       " 556: 'USDS State Department Miscellaneous Agencies and Programs',\n",
       " 557: 'EquityNet, LLC.',\n",
       " 558: 'NSF National Science Foundation',\n",
       " 559: '3M Corporation',\n",
       " 560: 'Alfred P. Sloan Foundation',\n",
       " 561: 'Azbil North America Research and Development, Inc.',\n",
       " 562: 'BASF Corporation',\n",
       " 563: 'Binghamton University',\n",
       " 564: 'Broad Institute Inc.',\n",
       " 565: 'BURL Concepts Inc.',\n",
       " 566: 'Cambridge Display Technology Limted',\n",
       " 567: 'Carnegie Mellon University',\n",
       " 568: 'Charles River Analytics',\n",
       " 569: 'Charles Stark Draper Laboratory, Inc.',\n",
       " 570: 'Chevron Corporation',\n",
       " 571: 'Chilisin Electronics Corp.',\n",
       " 572: 'Chirp Microsystems, Inc.',\n",
       " 573: 'Columbia University',\n",
       " 574: 'South Carolina Commission on Higher Education',\n",
       " 575: 'Computing Research Association',\n",
       " 576: 'Continental Automotive Systems',\n",
       " 577: 'DA ARO Army Research Office',\n",
       " 578: 'DAF AFOSR Air Force Office of Scientific Research',\n",
       " 579: 'DAF Air Force Research Laboratory',\n",
       " 580: 'Dana-Farber Cancer Institute',\n",
       " 581: 'David and Lucile Packard Foundation',\n",
       " 582: 'Denso Corporation',\n",
       " 583: 'Department of Homeland Security',\n",
       " 584: 'DOD Advanced Research Projects Agency',\n",
       " 585: 'DOD National Geospatial Intelligence Agency',\n",
       " 586: 'DOD National Security Agency',\n",
       " 587: 'DOD ONR Office of Naval Research',\n",
       " 588: 'DOD Space and Naval Warfare Systems Command',\n",
       " 589: 'DOE Department of Energy',\n",
       " 590: 'DOED US Department of Education',\n",
       " 591: 'DURA Automotive Systems',\n",
       " 592: 'Education Development Center, Inc.',\n",
       " 593: 'Electronics and Telecommunications Research Institute',\n",
       " 594: 'Eli Lilly and Company',\n",
       " 595: 'Emory University',\n",
       " 596: 'European Molecular Biology Organization',\n",
       " 597: 'FlexTech Alliance, Inc.',\n",
       " 598: 'Future of Life Institute',\n",
       " 599: 'General Electric Company (incl GE Healthcare, GE Light Inst)',\n",
       " 600: 'GlobalFoundries U.S. INC.',\n",
       " 601: 'Google, Inc.',\n",
       " 602: 'Gordon and Betty Moore Foundation',\n",
       " 603: 'Hewlett-Packard',\n",
       " 604: 'Honeywell, Inc.',\n",
       " 605: 'IHI Corporation',\n",
       " 606: 'Inovant, LLC',\n",
       " 607: 'Institut Mines-Telecom',\n",
       " 608: 'Institute of Microelectronics of Chinese Academy of Sciences',\n",
       " 609: 'Intel Corporation',\n",
       " 610: 'International Disk Drive Equipment and Materials Association (Incl. ASTC)',\n",
       " 611: 'Israel Ministry of Defense',\n",
       " 612: 'John Templeton Foundation',\n",
       " 613: 'Johns Hopkins University',\n",
       " 614: 'JPL Jet Propulsion Laboratory',\n",
       " 615: 'Korea Advanced Institute of Science and Technology',\n",
       " 616: 'Korea Institute of Materials Science',\n",
       " 617: 'DO NOT USE (Use Code 00FC57) - LLNL Lawrence Livermore National Laboratory',\n",
       " 618: 'LBNL Lawrence Berkeley National Laboratory',\n",
       " 619: 'Mayo Foundation for Medical Education & Research',\n",
       " 620: 'Merck KGaA',\n",
       " 621: 'Microsoft Corporation',\n",
       " 622: 'MIT Massachusetts Institute of Technology',\n",
       " 623: 'Netherlands Organization for Scientific Research',\n",
       " 624: 'New Vision Microelectronics, Inc.',\n",
       " 625: 'NIH National Institute of General Medical Sciences',\n",
       " 626: 'Nokia Mobile Phones Inc.',\n",
       " 627: 'NSF National Science Foundation',\n",
       " 628: 'Oak Ridge National Laboratory',\n",
       " 629: 'ObjectVideo, Inc.',\n",
       " 630: 'Ohio State University (Incl. Research Foundation)',\n",
       " 631: 'Partners Healthcare Systems, Inc.',\n",
       " 632: 'Philips Healthcare',\n",
       " 633: 'Purdue University',\n",
       " 634: 'Qualcomm Foundation',\n",
       " 635: 'Redpine Signals, Inc.',\n",
       " 636: 'DOD Navy Ship Research and Development Center',\n",
       " 637: 'Rice University',\n",
       " 638: 'Salk Institute for Biological Studies',\n",
       " 639: 'Samsung Electronics Company, Ltd.',\n",
       " 640: 'Samsung Group',\n",
       " 641: 'Samsung Semiconductor, Inc.',\n",
       " 642: 'Taiwan Semiconductor Manufacturing Company. Ltd',\n",
       " 643: 'SRC Semiconductor Research Corp',\n",
       " 644: 'Sensata Technologies, Inc.',\n",
       " 645: 'Sensormatic Electronics, LLC',\n",
       " 646: 'Shanghai Industrial Technology Research Institute (SITRI)',\n",
       " 647: 'Siemens Corporation',\n",
       " 648: 'Siemens Medical Solutions USA, Inc.',\n",
       " 649: 'Silicon Valley Community Foundation',\n",
       " 650: 'Silvaco International',\n",
       " 651: 'SkySight Technologies LLC',\n",
       " 652: 'SNL Sandia National Laboratory',\n",
       " 653: 'Sony Corporation',\n",
       " 654: 'SRC Semiconductor Research Corp',\n",
       " 655: 'SRI International (incl Sarnoff Corporation)',\n",
       " 656: 'Stanford University',\n",
       " 657: 'Sumitomo Industries, Ltd',\n",
       " 658: 'Swiss Federal Institute of Technology in Zurich',\n",
       " 659: 'Synopsys Inc.',\n",
       " 660: 'Taiwan Semiconductor Manufacturing Company. Ltd',\n",
       " 661: 'The Boeing Company',\n",
       " 662: 'The Peggy and Jack Baskin Foundation',\n",
       " 663: 'Toshiba Corporation',\n",
       " 664: 'UC Los Angeles',\n",
       " 665: 'UC Merced',\n",
       " 666: 'UC Office of the President',\n",
       " 667: 'UC San Francisco',\n",
       " 668: 'UC Santa Cruz',\n",
       " 669: 'University of Arizona',\n",
       " 670: 'University of Illinois',\n",
       " 671: 'University of Maryland (College Park)',\n",
       " 672: 'University of Massachusetts Amherst',\n",
       " 673: 'University of Massachusetts Amherst',\n",
       " 674: 'University of Minnesota',\n",
       " 675: 'University of Nebraska Medical Center',\n",
       " 676: 'University of Novi Sad',\n",
       " 677: 'University of Southern California',\n",
       " 678: 'University of Texas at Dallas',\n",
       " 679: 'University of Texas System',\n",
       " 680: 'University of Wisconsin-Madison',\n",
       " 681: 'US-Israel Binational Science Foundation',\n",
       " 682: 'UTC United Technologies Corp (Incl. UTCR United Tech Res Ctr)',\n",
       " 683: 'Vanderbilt University',\n",
       " 684: 'Applied Technology Council',\n",
       " 685: 'BC Hydro',\n",
       " 686: 'Ben Gerwick',\n",
       " 687: 'California Department of Conservation',\n",
       " 688: 'California Department of Water Resources',\n",
       " 689: 'California Seismic Safety Commission',\n",
       " 690: 'Charles Pankow Foundation',\n",
       " 691: 'DOE Department of Energy',\n",
       " 692: 'EPRI Electric Power Research Institute',\n",
       " 693: 'GEI Consultants',\n",
       " 694: 'Holmes Culley',\n",
       " 695: 'Korea Electric Power Corporation',\n",
       " 696: 'LBNL Lawrence Berkeley National Laboratory',\n",
       " 697: 'Magnusson Klemencic Associates',\n",
       " 698: 'Oregon Department of Transportation',\n",
       " 699: 'Southern California Edison Company',\n",
       " 700: 'State of British Columbia (incl BC Bldgs Health Serv Auth)',\n",
       " 701: 'Federal Presidio Trust',\n",
       " 702: 'Taylor Devices',\n",
       " 703: 'University of Southern California',\n",
       " 704: 'URS Corporation',\n",
       " 705: 'USDS United States Embassy',\n",
       " 706: 'Alfred P. Sloan Foundation',\n",
       " 707: 'Analog Devices, Inc.',\n",
       " 708: 'Applied Materials, Inc.',\n",
       " 709: 'Arizona State University, Tempe',\n",
       " 710: 'BAE Systems',\n",
       " 711: 'Battelle Memorial Institute',\n",
       " 712: 'Bayer AG',\n",
       " 713: 'Bechtel Corporation',\n",
       " 714: 'Berkeley Education Alliance for Research in Singapore',\n",
       " 715: 'Bill & Melinda Gates Foundation',\n",
       " 716: 'BioMarin Pharmaceuticals, Inc.',\n",
       " 717: 'Booz Allen Hamilton Inc.',\n",
       " 718: 'BP Group (BP America, BP Exploration, British Petroleum)',\n",
       " 719: 'Brown University',\n",
       " 720: 'California Air Resources Board',\n",
       " 721: 'California Department of Transportation',\n",
       " 722: 'California Department of Water Resources',\n",
       " 723: 'California Emergency Management Agency',\n",
       " 724: 'California Energy Commission',\n",
       " 725: 'California Institute of Technology',\n",
       " 726: 'California Seismic Safety Commission',\n",
       " 727: 'California Water Resources Control Board',\n",
       " 728: 'Charles River Analytics',\n",
       " 729: 'Chevron Corporation',\n",
       " 730: 'City and County of San Francisco',\n",
       " 731: 'City University of New York',\n",
       " 732: 'Colorado State University',\n",
       " 733: 'Columbia University',\n",
       " 734: 'Computing Research Association',\n",
       " 735: 'ConocoPhillips Company (Merger of Conoco & Phillips Petroleum)',\n",
       " 736: 'Consortium of Univs for Research in Earthquake Eng (CUREE)',\n",
       " 737: 'Cornell University',\n",
       " 738: 'DA Army Bases and Agencies Miscellaneous',\n",
       " 739: 'DA Army Research Laboratory',\n",
       " 740: 'DA ARO Army Research Office',\n",
       " 741: 'DAF AFOSR Air Force Office of Scientific Research',\n",
       " 742: 'David and Lucile Packard Foundation',\n",
       " 743: 'Degenkolb Engineers',\n",
       " 744: 'Delta Electronics, Inc.',\n",
       " 745: 'Department of Homeland Security',\n",
       " 746: 'DOD Advanced Research Projects Agency',\n",
       " 747: 'DOD Defense Threat Reduction Agency',\n",
       " 748: 'DOD National Geospatial Intelligence Agency',\n",
       " 749: 'DOD Naval Post Graduate School',\n",
       " 750: 'DOD Naval Research Laboratory',\n",
       " 751: 'DOD ONR Office of Naval Research',\n",
       " 752: 'DOD Space and Naval Warfare Systems Command',\n",
       " 753: 'DOE Department of Energy',\n",
       " 754: 'DOT Federal Highway Administration',\n",
       " 755: 'Duke University',\n",
       " 756: 'ECOFYS International',\n",
       " 757: 'Emory University',\n",
       " 758: 'EPA Environmental Protection Agency',\n",
       " 759: 'EPRI Electric Power Research Institute',\n",
       " 760: 'Ericsson, Inc.',\n",
       " 761: 'Exponent Failure Analysis Associates, Inc.',\n",
       " 762: 'Factory Mutual Insurance Company (DBA FM Global)',\n",
       " 763: 'Fairchild Semiconductor (Schlumberger)',\n",
       " 764: 'Fanuc Ltd',\n",
       " 765: 'FCA US LLC',\n",
       " 766: 'Forell/Elsesser Engineering, Inc.',\n",
       " 767: 'FormFactor, Inc.',\n",
       " 768: 'General Electric Company (incl GE Healthcare, GE Light Inst)',\n",
       " 769: 'Georgia Institute of Technology',\n",
       " 770: 'Georgia State University',\n",
       " 771: 'GlobalFoundries U.S. INC.',\n",
       " 772: 'Gordon and Betty Moore Foundation',\n",
       " 773: 'GTI Gas Technology Institute',\n",
       " 774: 'Hitachi, Ltd (incl Hitachi America, Ltd)',\n",
       " 775: 'Honda (Honda R&D Americas, Inc.)',\n",
       " 776: 'Honeywell, Inc.',\n",
       " 777: 'IBM International Business Machines Corporation',\n",
       " 778: 'Industrial Technology Research Institute',\n",
       " 779: 'Insurance Services Office, Inc (Applied Insurance Research)',\n",
       " 780: 'Intel Corporation',\n",
       " 781: 'InvenSense, Inc.',\n",
       " 782: 'Japan Atomic Energy Agency',\n",
       " 783: 'John S and James L Knight Foundation',\n",
       " 784: 'John Templeton Foundation',\n",
       " 785: 'KAUST U.S. Limited',\n",
       " 786: 'King Abdulaziz City for Science and Technology',\n",
       " 787: 'Korea Advanced Institute of Science and Technology',\n",
       " 788: 'KWJ Engineering, Inc.',\n",
       " 789: 'DO NOT USE (Use Code 00FC57) - LLNL Lawrence Livermore National Laboratory',\n",
       " 790: 'LBNL Lawrence Berkeley National Laboratory',\n",
       " 791: 'Leidos, Inc.',\n",
       " 792: 'LOAD IQ, LLC',\n",
       " 793: 'MARCO Microelectronics Advanced Research Corporation',\n",
       " 794: 'Marvell Semiconductor, Inc.',\n",
       " 795: 'Materials Center Leoben Forschung GMBH',\n",
       " 796: 'Medtronic',\n",
       " 797: 'Ministry of Education',\n",
       " 798: 'MIT Massachusetts Institute of Technology',\n",
       " 799: 'Miyamoto International, Inc.',\n",
       " 800: 'Murata Manufacturing Co., Ltd',\n",
       " 801: 'NASA National Aeronautics and Space Administration Ames University Consortium',\n",
       " 802: 'NIH National Heart, Lung, and Blood Institute',\n",
       " 803: 'NIH National Institute of Allergy & Infectious Diseases',\n",
       " 804: 'NIH National Institute of Biomedical Imaging and Bioengineering',\n",
       " 805: 'NIH National Institute of General Medical Sciences',\n",
       " 806: 'NIST National Institute of Standards & Technology',\n",
       " 807: 'Nokia Mobile Phones Inc.',\n",
       " 808: 'Nokia USA Inc.',\n",
       " 809: 'Northrop Grumman Corporation',\n",
       " 810: 'NRC Nuclear Regulatory Commission',\n",
       " 811: 'NREL National Renewable Energy Lab (Midwest Res Inst)',\n",
       " 812: 'NSF National Science Foundation',\n",
       " 813: 'Oak Ridge National Laboratory',\n",
       " 814: 'Oregon Health Sciences University',\n",
       " 815: 'Oregon State University',\n",
       " 816: 'Beta Squared, Inc (incl Photronics, Inc)',\n",
       " 817: 'Purdue University',\n",
       " 818: 'Qualcomm Foundation',\n",
       " 819: 'Qualcomm, Inc.',\n",
       " 820: 'Raytheon',\n",
       " 821: 'Research Triangle Institute',\n",
       " 822: 'Risk Management Solutions, Inc.',\n",
       " 823: 'Robert Bosch North America',\n",
       " 824: 'Samsung Electronics Company, Ltd.',\n",
       " 825: 'Samsung Information Systems America',\n",
       " 826: 'Schafer Corporation',\n",
       " 827: 'Seattle Biomedical Research Institute',\n",
       " 828: 'SELEX Sistemi Integrati',\n",
       " 829: 'Siemens AG',\n",
       " 830: 'SNL Sandia National Laboratory',\n",
       " 831: 'SRC Semiconductor Research Corp',\n",
       " 832: 'SRI International (incl Sarnoff Corporation)',\n",
       " 833: 'Stanford University',\n",
       " 834: 'State University of New York',\n",
       " 835: 'Teichert Aggregates',\n",
       " 836: 'Teledyne Technologies Inc (RD Instruments, Microwave, etc)',\n",
       " 837: 'Texas A&M University',\n",
       " 838: 'Texas Instruments',\n",
       " 839: 'The Government of the Republic of Singapore',\n",
       " 840: 'Toshiba Corporation',\n",
       " 841: 'Toyota Motor Corporation (incl Engineer & Mfg North America)',\n",
       " 842: 'UC Davis',\n",
       " 843: 'UC Institute of Global Conflict and Cooperation',\n",
       " 844: 'UC Lab Fees Research Program',\n",
       " 845: 'UC Los Angeles',\n",
       " 846: 'UC Merced',\n",
       " 847: 'UC Riverside',\n",
       " 848: 'UC San Diego',\n",
       " 849: 'UC San Francisco',\n",
       " 850: 'UC Santa Barbara',\n",
       " 851: 'UC Santa Cruz',\n",
       " 852: 'United Arab Emirates University',\n",
       " 853: 'University of Arizona',\n",
       " 854: 'Loyola University of Chicago',\n",
       " 855: 'University of Colorado System',\n",
       " 856: 'University of Delaware',\n",
       " 857: 'University of Illinois',\n",
       " 858: 'University of Maryland (College Park)',\n",
       " 859: 'University of Michigan',\n",
       " 860: 'University of Minnesota',\n",
       " 861: 'University of Notre Dame',\n",
       " 862: 'University of Pennsylvania',\n",
       " 863: 'University of Southern California',\n",
       " 864: 'University of Tennessee',\n",
       " 865: 'University of Texas at Austin',\n",
       " 866: 'University of Texas at Dallas',\n",
       " 867: 'University of Washington',\n",
       " 868: 'University of Wisconsin-Madison',\n",
       " 869: 'USAID Agency for International Development',\n",
       " 870: 'USDI Bureau of Reclamation',\n",
       " 871: 'USDI Geological Survey',\n",
       " 872: 'UTC United Technologies Corp (Incl. UTCR United Tech Res Ctr)',\n",
       " 873: 'Vienna University of Technology',\n",
       " 874: 'Vishay Capella Microsystems (Taiwan) Limited',\n",
       " 875: 'VTT Technical Research Centre of Finland',\n",
       " 876: 'Western Digital Corporation',\n",
       " 877: 'Yonsei University',\n",
       " 878: 'American Institute for Research',\n",
       " 879: 'Arizona State University, Tempe',\n",
       " 880: 'South Carolina Commission on Higher Education',\n",
       " 881: 'DOD Advanced Research Projects Agency',\n",
       " 882: 'DOD ONR Office of Naval Research',\n",
       " 883: 'Ewing Marion Kauffman Foundation',\n",
       " 884: 'LBNL Lawrence Berkeley National Laboratory',\n",
       " 885: 'NSF National Science Foundation',\n",
       " 886: 'Environmental Defense Fund',\n",
       " 887: 'Inter-American Development Bank',\n",
       " 888: 'Alcoa, Inc.',\n",
       " 889: 'American Heart Association Western States (Cal Affiliate)',\n",
       " 890: 'American Lung Association of California',\n",
       " 891: 'Applied Materials, Inc.',\n",
       " 892: 'Burroughs Wellcome Fund',\n",
       " 893: 'California Department of Transportation',\n",
       " 894: 'California Energy Commission',\n",
       " 895: 'DA ARO Army Research Office',\n",
       " 896: 'DAF AFOSR Air Force Office of Scientific Research',\n",
       " 897: 'Denso Corporation',\n",
       " 898: 'DHHS FDA Food and Drug Administration',\n",
       " 899: 'DOD Advanced Research Projects Agency',\n",
       " 900: 'DOE Department of Energy',\n",
       " 901: 'Fanuc Ltd',\n",
       " 902: 'FlexTech Alliance, Inc.',\n",
       " 903: 'Fonds National de la Recherche Luxembourg',\n",
       " 904: 'Fuji Electric Co, Ltd',\n",
       " 905: 'Honda (Honda R&D Americas, Inc.)',\n",
       " 906: 'Industrial Technology Research Institute',\n",
       " 907: 'International Disk Drive Equipment and Materials Association (Incl. ASTC)',\n",
       " 908: 'King Abdullah University of Science & Technology',\n",
       " 909: 'DO NOT USE (Use Code 00FC57) - LLNL Lawrence Livermore National Laboratory',\n",
       " 910: 'LBNL Lawrence Berkeley National Laboratory',\n",
       " 911: 'Los Alamos National Security, LLC',\n",
       " 912: 'Max Kade Foundation',\n",
       " 913: 'MIT Massachusetts Institute of Technology',\n",
       " 914: 'NASA National Aeronautics and Space Administration Ames University Consortium',\n",
       " 915: 'NASA National Aeronautics and Space Administration Ames University Consortium',\n",
       " 916: 'NASA National Aeronautics and Space Administration Ames University Consortium',\n",
       " 917: 'NASA National Aeronautics and Space Administration Ames University Consortium',\n",
       " 918: 'National Academy of Sciences',\n",
       " 919: 'NIH National Heart, Lung, and Blood Institute',\n",
       " 920: 'NIH National Institutes of Health - Miscellaneous',\n",
       " 921: 'NSF National Science Foundation',\n",
       " 922: 'Oak Ridge National Laboratory',\n",
       " 923: 'Samsung Electronics Company, Ltd.',\n",
       " 924: 'San Diego State University Research Foundation',\n",
       " 925: 'San Francisco State University Foundation, Inc.',\n",
       " 926: 'Sandex Corporation',\n",
       " 927: 'Siemens AG',\n",
       " 928: 'SNL Sandia National Laboratory',\n",
       " 929: 'Stanford University',\n",
       " 930: 'UC San Diego',\n",
       " 931: 'University of Cincinnati',\n",
       " 932: 'University of Pennsylvania',\n",
       " 933: 'University of Utah',\n",
       " 934: 'VentureWell',\n",
       " 935: 'Western Digital Corporation',\n",
       " 936: 'William M. Keck Foundation',\n",
       " 937: 'Binghamton University',\n",
       " 938: 'California Institute of Technology',\n",
       " 939: 'Chevron Corporation',\n",
       " 940: 'China Automotive Battery Research Institute Co., LTD.',\n",
       " 941: 'Cornell University',\n",
       " 942: 'DA ARO Army Research Office',\n",
       " 943: 'DOD ONR Office of Naval Research',\n",
       " 944: 'Dow Chemical Company',\n",
       " 945: 'Drexel University',\n",
       " 946: 'EPRI Electric Power Research Institute',\n",
       " 947: 'General Research Institute For Nonferrous Metals',\n",
       " 948: 'King Abdullah University of Science & Technology',\n",
       " 949: 'Laser Prismatics, LLC',\n",
       " 950: 'LBNL Lawrence Berkeley National Laboratory',\n",
       " 951: 'MIT Massachusetts Institute of Technology',\n",
       " 952: 'NSF National Science Foundation',\n",
       " 953: 'Samsung Electronics Company, Ltd.',\n",
       " 954: 'Scientific Simulation Systems, Inc.',\n",
       " 955: 'Seoul National University',\n",
       " 956: 'SRC Semiconductor Research Corp',\n",
       " 957: 'Teledyne Technologies Inc (RD Instruments, Microwave, etc)',\n",
       " 958: 'UC Los Angeles',\n",
       " 959: 'UC MESA (Mathematics, Engineering, Science Achievement) Program',\n",
       " 960: 'UC Riverside',\n",
       " 961: 'University of Illinois',\n",
       " 962: 'University of Michigan',\n",
       " 963: 'University of Minnesota',\n",
       " 964: 'Arizona State University, Tempe',\n",
       " 965: 'Battelle Memorial Institute',\n",
       " 966: 'Department of Homeland Security',\n",
       " 967: 'DOE Department of Energy',\n",
       " 968: 'EPRI Electric Power Research Institute',\n",
       " 969: 'Federation of American Scientists',\n",
       " 970: 'General Atomics',\n",
       " 971: 'Heising-Simons Foundation',\n",
       " 972: 'Hitachi, Ltd (incl Hitachi America, Ltd)',\n",
       " 973: 'Idaho National Laboratory',\n",
       " 974: 'DO NOT USE (Use Code 00FC57) - LLNL Lawrence Livermore National Laboratory',\n",
       " 975: 'LBNL Lawrence Berkeley National Laboratory',\n",
       " 976: 'Los Alamos National Security, LLC',\n",
       " 977: 'MIT Massachusetts Institute of Technology',\n",
       " 978: 'National Academy of Sciences',\n",
       " 979: 'NRC Nuclear Regulatory Commission',\n",
       " 980: 'Oak Ridge National Laboratory',\n",
       " 981: 'ONDRAF/NIRAS',\n",
       " 982: 'RadiaBeam Technologies, LLC',\n",
       " 983: 'SNL Sandia National Laboratory',\n",
       " 984: 'Soonchunhyang University',\n",
       " 985: 'UC Davis',\n",
       " 986: 'University of Glasgow',\n",
       " 987: 'University of Illinois',\n",
       " 988: 'University of Michigan',\n",
       " 989: 'University of Tennessee',\n",
       " 990: 'University of Wisconsin-Madison',\n",
       " 991: 'German Academic Exchange Service (DAAD)',\n",
       " 992: 'IMLS Institute of Museum and Library Services',\n",
       " 993: 'NEA National Endowment for the Arts',\n",
       " 994: 'NEH National Endowment for the Humanities',\n",
       " 995: 'NEA National Endowment for the Arts',\n",
       " 996: 'Walter & Elise Haas Fund',\n",
       " 997: 'DOED US Department of Education',\n",
       " 998: 'San Francisco Foundation',\n",
       " 999: 'California Department of Rehabilitation',\n",
       " ...}"
      ]
     },
     "execution_count": 15,
     "metadata": {},
     "output_type": "execute_result"
    }
   ],
   "source": [
    "extended_names"
   ]
  },
  {
   "cell_type": "code",
   "execution_count": 16,
   "metadata": {
    "collapsed": false
   },
   "outputs": [
    {
     "data": {
      "text/plain": [
       "'German Academic Exchange ..'"
      ]
     },
     "execution_count": 16,
     "metadata": {},
     "output_type": "execute_result"
    }
   ],
   "source": [
    "combined_t.column('Direct Sponsor')[991]"
   ]
  },
  {
   "cell_type": "code",
   "execution_count": 17,
   "metadata": {
    "collapsed": false
   },
   "outputs": [
    {
     "name": "stdout",
     "output_type": "stream",
     "text": [
      "Row IDs of sponsors in combined_clean_name not found [1434, 2849]\n"
     ]
    }
   ],
   "source": [
    "orig = (np.array(list(extended_names.keys())))\n",
    "missing = []\n",
    "for elem in range(combined_clean_name.num_rows):\n",
    "    if elem not in orig:\n",
    "        missing += [elem]\n",
    "print(\"Row IDs of sponsors in combined_clean_name not found\", missing)"
   ]
  },
  {
   "cell_type": "code",
   "execution_count": null,
   "metadata": {
    "collapsed": false
   },
   "outputs": [],
   "source": [
    "combined_clean_name = combined_clean_name.with_column('index', range(combined_clean_name.num_rows))\n",
    "combined_clean_name.show(3)"
   ]
  },
  {
   "cell_type": "code",
   "execution_count": null,
   "metadata": {
    "collapsed": false
   },
   "outputs": [],
   "source": [
    "combined_clean_name.row([1434, 2849])"
   ]
  },
  {
   "cell_type": "code",
   "execution_count": null,
   "metadata": {
    "collapsed": true
   },
   "outputs": [],
   "source": [
    "#adding the leftover \n",
    "\n",
    "# 10/09 Note: These two names are found in the corresponding rows of combined_clean_name but were either mispelled \n",
    "# or warped \n",
    "extended_names[1434] = \"Helmholtz Zentrum Munchen\"\n",
    "extended_names[2849] = \"Stifterverband fur die Deutsch\""
   ]
  },
  {
   "cell_type": "code",
   "execution_count": null,
   "metadata": {
    "collapsed": false
   },
   "outputs": [],
   "source": [
    "len(extended_names) "
   ]
  },
  {
   "cell_type": "markdown",
   "metadata": {},
   "source": [
    "## Starting with extended_names (as a means to join phoebe and data)"
   ]
  },
  {
   "cell_type": "code",
   "execution_count": null,
   "metadata": {
    "collapsed": false
   },
   "outputs": [],
   "source": [
    "extended_names_tbl = Table().with_columns(['index', extended_names.keys(),\n",
    "                                           'Sponsor', extended_names.values()])\n",
    "extended_names_tbl.show(2)"
   ]
  },
  {
   "cell_type": "code",
   "execution_count": null,
   "metadata": {
    "collapsed": false
   },
   "outputs": [],
   "source": [
    "combined_clean_name = combined_clean_name.join('index', extended_names_tbl)\n",
    "combined_clean_name.show(3)"
   ]
  },
  {
   "cell_type": "code",
   "execution_count": null,
   "metadata": {
    "collapsed": false
   },
   "outputs": [],
   "source": [
    "combined_phoebe = combined_clean_name.join('Sponsor', phoebe)\n",
    "combined_phoebe.show(5)"
   ]
  },
  {
   "cell_type": "code",
   "execution_count": null,
   "metadata": {
    "collapsed": false
   },
   "outputs": [],
   "source": [
    "combined_phoebe_conc = combined_phoebe.select(['Sponsor', '\\ufeffControl Unit', 'Division', 'Department', 'Sponsor Class', '2014', '2015', '2016'])\n",
    "combined_phoebe_conc.show(3)\n",
    "# combined_phoebe.labels"
   ]
  },
  {
   "cell_type": "code",
   "execution_count": null,
   "metadata": {
    "collapsed": true
   },
   "outputs": [],
   "source": [
    "# combined_phoebe_conc.to_csv('data/combined_phoebe_conc.csv')"
   ]
  },
  {
   "cell_type": "code",
   "execution_count": null,
   "metadata": {
    "collapsed": false
   },
   "outputs": [],
   "source": [
    "combined_phoebe_conc_pd = pd.read_csv('data/data_attempts/combined_phoebe_conc.csv')\n",
    "combined_phoebe_conc_pd"
   ]
  },
  {
   "cell_type": "code",
   "execution_count": null,
   "metadata": {
    "collapsed": true
   },
   "outputs": [],
   "source": [
    "# 10/09 Note: Beginning to  clean dollar amounts\n",
    "combined_phoebe_conc_pd = combined_phoebe_conc_pd.fillna(\"Null\")"
   ]
  },
  {
   "cell_type": "code",
   "execution_count": null,
   "metadata": {
    "collapsed": true
   },
   "outputs": [],
   "source": [
    "test = '$5,418'\n",
    "eval(test.replace('$', '').replace(',', ''))"
   ]
  },
  {
   "cell_type": "code",
   "execution_count": null,
   "metadata": {
    "collapsed": true
   },
   "outputs": [],
   "source": [
    "# dealing with parentheses and dollar signs \n",
    "def money_parse(strval):\n",
    "    if strval == \"Null\":\n",
    "        return 0\n",
    "    if \"(\" in strval:\n",
    "        # Parentheses signify negatives \n",
    "        parsed = eval(strval.replace('($', '').replace(')', '').replace(',', '')) * -1\n",
    "    else:\n",
    "        parsed = eval(strval.replace('$', '').replace(',', ''))\n",
    "    return parsed \n",
    "\n",
    "combined_phoebe_conc_pd['2014'] = combined_phoebe_conc_pd['2014'].apply(money_parse)\n",
    "combined_phoebe_conc_pd['2015'] = combined_phoebe_conc_pd['2015'].apply(money_parse)\n",
    "combined_phoebe_conc_pd['2016'] = combined_phoebe_conc_pd['2016'].apply(money_parse)"
   ]
  },
  {
   "cell_type": "code",
   "execution_count": null,
   "metadata": {
    "collapsed": true
   },
   "outputs": [],
   "source": [
    "combined_phoebe_conc_pd.head(3)"
   ]
  },
  {
   "cell_type": "code",
   "execution_count": null,
   "metadata": {
    "collapsed": true
   },
   "outputs": [],
   "source": [
    "# 10/09 Note: contains cleaned data and considers negatives \n",
    "combined_phoebe_conc_pd.to_csv('data/data_attempts/research_funding_2014_2015_2016.csv')"
   ]
  },
  {
   "cell_type": "markdown",
   "metadata": {},
   "source": [
    "### Tinkering with visualization methods\n",
    "#### 10/09 Note: Jump to other notebook, \"private-research\" "
   ]
  },
  {
   "cell_type": "code",
   "execution_count": null,
   "metadata": {
    "collapsed": true
   },
   "outputs": [],
   "source": [
    "# agg over time by department \n",
    "combined_phoebe_conc_pd_ds = Table.read_table('data/data_attempts/research_funding_2014_2015_2016.csv')"
   ]
  },
  {
   "cell_type": "code",
   "execution_count": null,
   "metadata": {
    "collapsed": true
   },
   "outputs": [],
   "source": [
    "sum(combined_phoebe_conc_pd_ds.column('2014')), sum(combined_phoebe_conc_pd_ds.column('2015')), sum(combined_phoebe_conc_pd_ds.column('2016'))"
   ]
  },
  {
   "cell_type": "code",
   "execution_count": null,
   "metadata": {
    "collapsed": true
   },
   "outputs": [],
   "source": [
    "combined_phoebe_conc_pd_ds.group('Department', sum)"
   ]
  },
  {
   "cell_type": "code",
   "execution_count": null,
   "metadata": {
    "collapsed": true
   },
   "outputs": [],
   "source": [
    "combined_phoebe_conc_pd_ds.where('Department', 'Null')"
   ]
  },
  {
   "cell_type": "code",
   "execution_count": null,
   "metadata": {
    "collapsed": true
   },
   "outputs": [],
   "source": [
    "# breakdown of sponsor class by division \n",
    "combined_phoebe_conc_pd.groupby('Division').count()\n",
    "\n",
    "# VIZ: network with division as center and names of donors connected to it, color coded by class "
   ]
  },
  {
   "cell_type": "code",
   "execution_count": null,
   "metadata": {
    "collapsed": true
   },
   "outputs": [],
   "source": [
    "# sum of funds over 3 years by division \n",
    "combined_phoebe_conc_pd.groupby('Division').sum()"
   ]
  },
  {
   "cell_type": "code",
   "execution_count": null,
   "metadata": {
    "collapsed": true
   },
   "outputs": [],
   "source": [
    "ds_above = Table.read_table('rfund_byDivision_sumByYear.csv')\n",
    "ds_above"
   ]
  },
  {
   "cell_type": "code",
   "execution_count": null,
   "metadata": {
    "collapsed": true
   },
   "outputs": [],
   "source": [
    "div = ds_above.column(0)\n",
    "fy14 = ds_above.column(1)\n",
    "fy15 = ds_above.column(2)\n",
    "fy16 = ds_above.column(3)\n",
    "fy141516 = zip(div, zip(fy14, fy15, fy16))"
   ]
  },
  {
   "cell_type": "code",
   "execution_count": null,
   "metadata": {
    "collapsed": true
   },
   "outputs": [],
   "source": [
    "fy141516_t = Table().with_columns(list(fy141516))"
   ]
  },
  {
   "cell_type": "code",
   "execution_count": null,
   "metadata": {
    "collapsed": true
   },
   "outputs": [],
   "source": [
    "fy141516_t.to_csv(\"rfund_byDivision_sumByYear_opp_format.csv\")"
   ]
  },
  {
   "cell_type": "code",
   "execution_count": null,
   "metadata": {
    "collapsed": true
   },
   "outputs": [],
   "source": [
    "pd_above = pd.read_csv('rfund_byDivision_sumByYear_opp_format.csv')\n",
    "pd_above.plot.line()"
   ]
  },
  {
   "cell_type": "code",
   "execution_count": null,
   "metadata": {
    "collapsed": true
   },
   "outputs": [],
   "source": [
    "fy141516_t"
   ]
  },
  {
   "cell_type": "code",
   "execution_count": null,
   "metadata": {
    "collapsed": true
   },
   "outputs": [],
   "source": [
    "# combined_phoebe_conc_pd_ds = combined_phoebe_conc_pd_ds.relabel(\"Sponsor Class\", \"Sponsor_class\")\n",
    "network_comb = combined_phoebe_conc_pd_ds.select(\"Sponsor\", \"Department\", \"Sponsor Class\", \"total_given\").relabel(\"Sponsor Class\", \"Sponsor_class\")\n",
    "network_comb"
   ]
  },
  {
   "cell_type": "code",
   "execution_count": null,
   "metadata": {
    "collapsed": true
   },
   "outputs": [],
   "source": [
    "# Network File / Edge List\n",
    "network_comb.to_csv(\"network_rfund.csv\")"
   ]
  },
  {
   "cell_type": "code",
   "execution_count": null,
   "metadata": {
    "collapsed": true
   },
   "outputs": [],
   "source": [
    "network_comb_edited = Table.read_table(\"network_rfund.csv\")"
   ]
  },
  {
   "cell_type": "code",
   "execution_count": null,
   "metadata": {
    "collapsed": true
   },
   "outputs": [],
   "source": [
    "combined_phoebe_conc_pd_ds = combined_phoebe_conc_pd_ds.with_column('total_given', \n",
    "                                        combined_phoebe_conc_pd_ds.apply(lambda x, y, z: x + y + z, ['2014', '2015', '2016']))"
   ]
  },
  {
   "cell_type": "code",
   "execution_count": null,
   "metadata": {
    "collapsed": true
   },
   "outputs": [],
   "source": [
    "combined_phoebe_conc_pd_ds.group"
   ]
  },
  {
   "cell_type": "code",
   "execution_count": null,
   "metadata": {
    "collapsed": true
   },
   "outputs": [],
   "source": [
    "# network_comb into json \n",
    "groups = {\"Federal\": 1, \"Industry\": 2, \"Not for Profit\": 3, \"University of California\": 4, \"Non Federal Governmental\": 5}\n",
    "def nodify(table, colname, rdict, groupmapping):\n",
    "    node_lst = []\n",
    "    nodified = []\n",
    "    col = table.column(colname)\n",
    "    sclass = table.column(\"Sponsor_class\")\n",
    "    for i in range(len(col)):\n",
    "        thisdict = {}\n",
    "        if (col[i] not in nodified):\n",
    "            thisdict[\"id\"] = col[i] \n",
    "            nodified += [col[i]]\n",
    "            if colname == \"Department\":\n",
    "                thisdict[\"group\"] = 0 #just for department, sponsor group will vary depending on sponsor_class\n",
    "            else:\n",
    "                thisdict[\"group\"] = groupmapping[sclass[i]]\n",
    "            node_lst += [thisdict]\n",
    "    rdict[\"nodes\"] = node_lst\n",
    "    return \"Done\"\n",
    "        "
   ]
  },
  {
   "cell_type": "code",
   "execution_count": null,
   "metadata": {
    "collapsed": true
   },
   "outputs": [],
   "source": [
    "network_comb_edited.group('Department').num_rows + network_comb_edited.group('Sponsor').num_rows"
   ]
  },
  {
   "cell_type": "code",
   "execution_count": null,
   "metadata": {
    "collapsed": true
   },
   "outputs": [],
   "source": [
    "test = {}\n",
    "nodify(network_comb_edited, \"Department\", test, groups)"
   ]
  },
  {
   "cell_type": "code",
   "execution_count": null,
   "metadata": {
    "collapsed": true
   },
   "outputs": [],
   "source": [
    "sponsor_nodes = {}\n",
    "nodify(network_comb_edited, \"Sponsor\", sponsor_nodes, groups)"
   ]
  },
  {
   "cell_type": "code",
   "execution_count": null,
   "metadata": {
    "collapsed": true
   },
   "outputs": [],
   "source": [
    "all_nodes = {}\n",
    "all_nodes[\"nodes\"] = test[\"nodes\"] + sponsor_nodes[\"nodes\"]"
   ]
  },
  {
   "cell_type": "code",
   "execution_count": null,
   "metadata": {
    "collapsed": true
   },
   "outputs": [],
   "source": [
    "def edgify(table, source, target, value, rdict):\n",
    "    source_col = table.column(source)\n",
    "    target_col = table.column(target)\n",
    "    value_col = table.column(value)\n",
    "    links = []\n",
    "    for i in range(table.num_rows):\n",
    "        thisdict = {}\n",
    "        s = source_col[i]\n",
    "        t = target_col[i]\n",
    "        v = value_col[i]\n",
    "        thisdict[\"source\"] = s\n",
    "        thisdict[\"target\"] = t\n",
    "        thisdict[\"value\"] = v\n",
    "        links += [thisdict]\n",
    "    rdict[\"links\"] = links \n",
    "    return \"Done\""
   ]
  },
  {
   "cell_type": "code",
   "execution_count": null,
   "metadata": {
    "collapsed": true
   },
   "outputs": [],
   "source": [
    "edgify(network_comb_edited, \"Sponsor\", \"Department\", \"total_given\", all_nodes)"
   ]
  },
  {
   "cell_type": "code",
   "execution_count": null,
   "metadata": {
    "collapsed": true
   },
   "outputs": [],
   "source": [
    "len(all_nodes['nodes']), network_comb_edited.num_rows"
   ]
  },
  {
   "cell_type": "code",
   "execution_count": null,
   "metadata": {
    "collapsed": true
   },
   "outputs": [],
   "source": [
    "# writing all_nodes to file\n",
    "file = open(\"rfund_nodes_links.txt\", \"w\")\n",
    "file.write(str(all_nodes))\n",
    "file.close()"
   ]
  },
  {
   "cell_type": "code",
   "execution_count": null,
   "metadata": {
    "collapsed": true
   },
   "outputs": [],
   "source": [
    "import ast\n",
    "\n",
    "file = open(\"rfund_nodes_links.txt\", \"r+\")\n",
    "file.write((json.dumps(ast.literal_eval(str(all_nodes)))))\n",
    "file.close()"
   ]
  },
  {
   "cell_type": "code",
   "execution_count": null,
   "metadata": {
    "collapsed": true
   },
   "outputs": [],
   "source": [
    "json.loads((json.dumps(ast.literal_eval(str(all_nodes)))))"
   ]
  },
  {
   "cell_type": "code",
   "execution_count": null,
   "metadata": {
    "collapsed": true,
    "scrolled": true
   },
   "outputs": [],
   "source": [
    "print(json.dumps(ast.literal_eval(str(all_nodes)), sort_keys=True, indent=4))"
   ]
  },
  {
   "cell_type": "code",
   "execution_count": null,
   "metadata": {
    "collapsed": true
   },
   "outputs": [],
   "source": [
    "import numpy as np\n",
    "network_comb_edited.group('Department')\n",
    "# Astronomy\n",
    "# Anthropology\n",
    "testing = network_comb_edited.where(np.logical_or(network_comb_edited.column('Department') == 'Astronomy', \\\n",
    "                                                  network_comb_edited.column('Department') == 'Anthropology'))"
   ]
  },
  {
   "cell_type": "code",
   "execution_count": null,
   "metadata": {
    "collapsed": true
   },
   "outputs": [],
   "source": [
    "testing"
   ]
  },
  {
   "cell_type": "code",
   "execution_count": null,
   "metadata": {
    "collapsed": true
   },
   "outputs": [],
   "source": [
    "testing_nodes = {}\n",
    "nodify(testing, \"Sponsor\", testing_nodes, groups)\n",
    "testing_nodes_dept = {}\n",
    "nodify(testing, \"Department\", testing_nodes_dept, groups)\n",
    "testing_nodes_all = {}\n",
    "testing_nodes_all[\"nodes\"] = testing_nodes_dept[\"nodes\"] + testing_nodes[\"nodes\"]"
   ]
  },
  {
   "cell_type": "code",
   "execution_count": null,
   "metadata": {
    "collapsed": true
   },
   "outputs": [],
   "source": [
    "edgify(testing, \"Sponsor\", \"Department\", \"total_given\", testing_nodes_all)"
   ]
  },
  {
   "cell_type": "code",
   "execution_count": null,
   "metadata": {
    "collapsed": true,
    "scrolled": true
   },
   "outputs": [],
   "source": [
    "print(json.dumps(ast.literal_eval(str(testing_nodes_all)), sort_keys=True, indent=4))"
   ]
  },
  {
   "cell_type": "code",
   "execution_count": null,
   "metadata": {
    "collapsed": true
   },
   "outputs": [],
   "source": [
    "network_comb_edited.group('Sponsor_class')"
   ]
  },
  {
   "cell_type": "code",
   "execution_count": null,
   "metadata": {
    "collapsed": true
   },
   "outputs": [],
   "source": [
    "# [{\"name\":\"flare.analytics.cluster.AgglomerativeCluster\",\"size\":3938,\"imports\":[\"flare.animate.T\n",
    "def hierarchical_edge_bundling(table):\n",
    "    dept = table.column('Department')\n",
    "    spon = table.column('Sponsor')\n",
    "    size = table.column('total_given') # log it and multiply by 10 \n",
    "    rv = []\n",
    "    nan = np.log(-1)\n",
    "    inf = np.log(0)\n",
    "    for i in range(len(dept)):\n",
    "        curr = {}\n",
    "        if (dept[i] != \"Null\"): \n",
    "            curr[\"name\"] = dept[i]\n",
    "            val = np.log(sum(size[i])) * 10\n",
    "            if ((val) != nan and (val) != inf):\n",
    "                curr[\"size\"] = val\n",
    "            else:\n",
    "                curr[\"size\"] = 0\n",
    "            curr[\"imports\"] = list(spon[i])\n",
    "            rv += [curr]\n",
    "        else:\n",
    "            print(dept[i])\n",
    "    return rv\n",
    "\n",
    "def heb_sponsor(table):\n",
    "    spon = table.column('Sponsor')\n",
    "    rv = []\n",
    "    for i in range(len(spon)):\n",
    "        curr = {}\n",
    "        curr[\"name\"] = spon[i]\n",
    "        curr[\"size\"] = 10\n",
    "        curr[\"imports\"] = []\n",
    "        rv += [curr]\n",
    "    return rv "
   ]
  },
  {
   "cell_type": "code",
   "execution_count": null,
   "metadata": {
    "collapsed": true
   },
   "outputs": [],
   "source": [
    "network_comb_heb = network_comb_edited.group('Department', lambda x: x)\n",
    "network_comb_heb"
   ]
  },
  {
   "cell_type": "code",
   "execution_count": null,
   "metadata": {
    "collapsed": true
   },
   "outputs": [],
   "source": [
    "rv = hierarchical_edge_bundling(network_comb_heb)"
   ]
  },
  {
   "cell_type": "code",
   "execution_count": null,
   "metadata": {
    "collapsed": true,
    "scrolled": true
   },
   "outputs": [],
   "source": [
    "import json\n",
    "print(json.dumps(rv, sort_keys=True, indent=4))\n",
    "# not working bc each import needs its own node"
   ]
  },
  {
   "cell_type": "code",
   "execution_count": null,
   "metadata": {
    "collapsed": true
   },
   "outputs": [],
   "source": [
    "rv2 = heb_sponsor(network_comb_edited.group(\"Sponsor\"))"
   ]
  },
  {
   "cell_type": "code",
   "execution_count": null,
   "metadata": {
    "collapsed": true,
    "scrolled": true
   },
   "outputs": [],
   "source": [
    "print(json.dumps(rv2, sort_keys=True, indent=4))"
   ]
  },
  {
   "cell_type": "code",
   "execution_count": null,
   "metadata": {
    "collapsed": true,
    "scrolled": true
   },
   "outputs": [],
   "source": [
    "combined_phoebe_conc_pd_ds.group(\"Department\").column(0)"
   ]
  },
  {
   "cell_type": "markdown",
   "metadata": {},
   "source": [
    "### What if I split it into multiple hierarchical edge bundling visualizations? \n",
    "One for schools and another for other? "
   ]
  },
  {
   "cell_type": "code",
   "execution_count": null,
   "metadata": {
    "collapsed": true
   },
   "outputs": [],
   "source": [
    "select_dept = ['Anthropology',\n",
    "       'Architecture', 'Art History','ARF Archaeological Research Facility',\n",
    "       'Astronomy', \n",
    "       'BNNI Berkeley Nanoscience & Nanoengineering Institute',\n",
    "       'Berkeley Language Center', 'Berkeley Seismological Laboratory',\n",
    "       'Bioengineering',\n",
    "       'Blum Center for Developing Economies', 'Boalt Law School',\n",
    "        'Buddhist Studies', 'CAL Cal Performances',\n",
    "       'CEDR Center for Environmental Design Research',\n",
    "       'CIEE California Institute for Energy & Environment',\n",
    "       'CITRIS Ctr for Info Tech Research in the Interest of Society',\n",
    "       'CLAS Center for Latin American Studies',\n",
    "       'CPAM Center for Pure & Applied Mathematics',\n",
    "       'CSAS Center for South Asian Studies',\n",
    "       'CSEAS Center for Southeast Asian Studies',\n",
    "       'Cancer Research Laboratory', 'Center for African Studies',\n",
    "       'Center for Child and Youth Policy',\n",
    "       'Center for Educational Partnerships',\n",
    "       'Center for Emerging & Neglected Diseases',\n",
    "       'Center for Integ8rative Planetary Science',\n",
    "       'Center for Jewish Studies', 'Center for Middle Eastern Studies',\n",
    "       'Center for Studies in Higher Education',\n",
    "       'Center of Evaluation for Global Action',\n",
    "       'Chemical and Biomolecular Engineering', 'Chemistry Department',\n",
    "       'Civil & Environmental Engineering', 'Classics',\n",
    "       'Comparative Literature', 'Critical Theory', 'D-Lab', 'Data Science Institute',\n",
    "        'Demography',\n",
    "       'Dept of Social Welfare', 'EBI Energy Biosciences Institute',\n",
    "       'EECS Electrical Engineering & Computer Sciences',\n",
    "       'EERC Earthquake Engineering Research Center',\n",
    "       'EHS Environment, Health & Safety',\n",
    "       'Earth & Planetary Science', 'East Asian Languages', 'Economics',\n",
    "       'Energy & Resources Group', 'Energy and Climate Institute',\n",
    "       'English', 'Environmental Science, Policy & Management',\n",
    "       'Essig Museum of Entomology', 'Ethnic Studies', 'Finance',\n",
    "       'Functional Genomics Laboratory',\n",
    "       'Geography', 'German',\n",
    "       'Gump Research Field Station', 'Haas Centers and Institutes',\n",
    "       'Haas Diversity Research Center (HIFIS Haas Institute)',\n",
    "       'Haas School of Business (Department)',\n",
    "       'Helen Wills Neuroscience Institute', 'History',\n",
    "       'History of Science & Technology', 'IB Integrative Biology',\n",
    "       'IBER Institute of Business & Economic Research',\n",
    "       'IBI Institute for Business Innovation',\n",
    "       'ICBS Institute for Cognitive and Brain Sciences',\n",
    "       'IEAS Institute of East Asian Studies',\n",
    "       'IEOR Industrial Engineering & Operations Research',\n",
    "       'IESE Institute for Environmental Science & Engineering',\n",
    "       'IGS Institute of Governmental Studies',\n",
    "       'IHD Institute of Human Development',\n",
    "       'IIS Institute of International Studies',\n",
    "       'IPIRA Intellectual Property & Industry Research',\n",
    "       'IRLE Institute for Research on Labor and Employment',\n",
    "       'ISSI Institute for the Study of Societal Issues',\n",
    "       'ITS Institute of Transportation Studies',\n",
    "       'IURD Institute of Urban & Regional Development',\n",
    "       'Information Services & Technology',\n",
    "       'Innovative Genomics Initiative',\n",
    "       'Institute for the Study of Societal Issue',\n",
    "       'Institute for the Study of Societal Issues',\n",
    "       'Jewish Graduate Studies', 'Journalism Department',\n",
    "       'LHS Lawrence Hall of Science', 'Linguistics',\n",
    "       'MCB Molecular & Cell Biology',\n",
    "       'MSE Materials Science & Engineering', 'Mathematics',\n",
    "       'Mechanical Engineering', 'Music', 'NE Near Eastern Studies',\n",
    "       'Nuclear Engineering', 'Nutritional Science & Toxicology', 'Optometry Department',\n",
    "        'Physics',\n",
    "       'Plant & Microbial Biology Department', 'Political Science',\n",
    "       'Psychology', 'Public Policy', \n",
    "       'RAL Radio Astronomy Laboratory',\n",
    "       'Research Field Stations and Nature Reserves', 'Rhetoric',\n",
    "       'S&P Spanish & Portuguese', 'SPH Divisional Rsrch and Cntrs',\n",
    "       'SSEAS South & Southeast Asian Studies', 'SSL Space Sciences Lab',\n",
    "       'Scandinavian Languages', 'School of Education',\n",
    "       'School of Journalism, Faculty Research',\n",
    "       'Simons Institute for the Theory of Computing', 'Social Welfare',\n",
    "       'Sociology', 'Statistics', 'Stem Cell Center',\n",
    "       'TAC Theoretical Astrophysics Center',\n",
    "       'The California Institute for Quantitative Biosciences (QB3)',\n",
    "       'The Social Science Matrix',\n",
    "       'Townsend Center for the Humanities', 'UC Energy Institute',\n",
    "       'UGIS IAS Department',\n",
    "       \"Women's Studies\", 'iSchool School of Information']"
   ]
  },
  {
   "cell_type": "code",
   "execution_count": null,
   "metadata": {
    "collapsed": true
   },
   "outputs": [],
   "source": [
    "select_dept_t = Table().with_column('major_dept', np.array(select_dept))"
   ]
  },
  {
   "cell_type": "code",
   "execution_count": null,
   "metadata": {
    "collapsed": true
   },
   "outputs": [],
   "source": [
    "major_dept = combined_phoebe_conc_pd_ds.join('Department', select_dept_t, \"major_dept\")\n",
    "major_dept.show(3)"
   ]
  },
  {
   "cell_type": "code",
   "execution_count": null,
   "metadata": {
    "collapsed": true
   },
   "outputs": [],
   "source": [
    "major_dept.group('Sponsor').num_rows + major_dept.group('Department').num_rows"
   ]
  },
  {
   "cell_type": "code",
   "execution_count": null,
   "metadata": {
    "collapsed": true
   },
   "outputs": [],
   "source": [
    "major_dept =  major_dept.with_column(\"total_given\", \n",
    "                                    major_dept.apply(lambda x, y, z: x+y+z, ['2014', '2015', '2016']))"
   ]
  },
  {
   "cell_type": "code",
   "execution_count": null,
   "metadata": {
    "collapsed": true
   },
   "outputs": [],
   "source": [
    "# research / non-administrative \n",
    "rv_selec = hierarchical_edge_bundling(major_dept.group(\"Department\", lambda x: x))"
   ]
  },
  {
   "cell_type": "code",
   "execution_count": null,
   "metadata": {
    "collapsed": true
   },
   "outputs": [],
   "source": [
    "print(json.dumps(rv_selec, sort_keys=True, indent=4))"
   ]
  },
  {
   "cell_type": "code",
   "execution_count": null,
   "metadata": {
    "collapsed": true
   },
   "outputs": [],
   "source": [
    "rv_selec2 = heb_sponsor(major_dept.group(\"Sponsor\"))"
   ]
  },
  {
   "cell_type": "code",
   "execution_count": null,
   "metadata": {
    "collapsed": true
   },
   "outputs": [],
   "source": [
    "print(json.dumps(rv_selec2, sort_keys=True, indent=4))"
   ]
  },
  {
   "cell_type": "markdown",
   "metadata": {},
   "source": [
    "### The research / nonadministrative didn't work out too hot "
   ]
  },
  {
   "cell_type": "code",
   "execution_count": null,
   "metadata": {
    "collapsed": true
   },
   "outputs": [],
   "source": [
    "minor_names = Table.read_table(\"minor_names.tsv\")"
   ]
  },
  {
   "cell_type": "code",
   "execution_count": null,
   "metadata": {
    "collapsed": true
   },
   "outputs": [],
   "source": [
    "minor_dept = combined_phoebe_conc_pd_ds.join('Department', minor_names, \"names\")\n",
    "minor_dept =  minor_dept.with_column(\"total_given\", \n",
    "                                    minor_dept.apply(lambda x, y, z: x+y+z, ['2014', '2015', '2016']))"
   ]
  },
  {
   "cell_type": "code",
   "execution_count": null,
   "metadata": {
    "collapsed": true
   },
   "outputs": [],
   "source": [
    "minor_dept.group('Sponsor').num_rows + minor_dept.group('Department').num_rows"
   ]
  },
  {
   "cell_type": "code",
   "execution_count": null,
   "metadata": {
    "collapsed": true
   },
   "outputs": [],
   "source": [
    "# research / non-administrative \n",
    "rv_admin = hierarchical_edge_bundling(minor_dept.group(\"Department\", lambda x: x))\n",
    "rv_admin2 = heb_sponsor(minor_dept.group(\"Sponsor\"))\n",
    "rv_admin_all = rv_admin2 + rv_admin\n",
    "print(json.dumps(rv_admin_all, sort_keys=True, indent=4))"
   ]
  },
  {
   "cell_type": "markdown",
   "metadata": {},
   "source": [
    "### Also not pretty and non-informative\n",
    "#### Next step: top 10 donors in each sponsor class, top 10 department recipients (raw amount)"
   ]
  },
  {
   "cell_type": "code",
   "execution_count": null,
   "metadata": {
    "collapsed": true
   },
   "outputs": [],
   "source": [
    "combined_phoebe_conc_pd = pd.read_csv('data/data_attempts/research_funding_2014_2015_2016.csv')\n",
    "combined_phoebe_conc_pd['Total'] = combined_phoebe_conc_pd['2014'] + combined_phoebe_conc_pd['2015'] + combined_phoebe_conc_pd['2016']"
   ]
  },
  {
   "cell_type": "code",
   "execution_count": null,
   "metadata": {
    "collapsed": true
   },
   "outputs": [],
   "source": [
    "# combined_phoebe_conc_pd['Total'] = combined_phoebe_conc_pd['2014'] + combined_phoebe_conc_pd['2015'] + combined_phoebe_conc_pd['2016']\n",
    "\n",
    "combined_phoebe_conc_pd.groupby(['Sponsor Class', 'Sponsor'])[['Total']].sum().sort_values('Total', ascending=False).iloc[:10]"
   ]
  },
  {
   "cell_type": "code",
   "execution_count": null,
   "metadata": {
    "collapsed": true
   },
   "outputs": [],
   "source": [
    "classes = combined_phoebe_conc_pd['Sponsor Class'].unique()\n",
    "classes"
   ]
  },
  {
   "cell_type": "code",
   "execution_count": null,
   "metadata": {
    "collapsed": true
   },
   "outputs": [],
   "source": [
    "def separate_classes(df, classes):\n",
    "    dfs = []\n",
    "    for classtype in classes:\n",
    "        sep = df[df['Sponsor Class'] == classtype]\n",
    "        dfs += [sep]\n",
    "    return dfs"
   ]
  },
  {
   "cell_type": "code",
   "execution_count": null,
   "metadata": {
    "collapsed": true
   },
   "outputs": [],
   "source": [
    "dfs = separate_classes(combined_phoebe_conc_pd, classes)"
   ]
  },
  {
   "cell_type": "code",
   "execution_count": null,
   "metadata": {
    "collapsed": true
   },
   "outputs": [],
   "source": [
    "# Federal \n",
    "for i in range(5):\n",
    "    print(\"\\n\", classes[i].upper())\n",
    "    print(dfs[i].groupby(['Sponsor'])[['Total']].sum().sort_values('Total', ascending=False).iloc[:10])"
   ]
  },
  {
   "cell_type": "markdown",
   "metadata": {},
   "source": [
    "### Top 10 and Bottom 10 recipients of aid (aggregate) "
   ]
  },
  {
   "cell_type": "code",
   "execution_count": null,
   "metadata": {
    "collapsed": true
   },
   "outputs": [],
   "source": [
    "combined_phoebe_conc_pd.head(3)"
   ]
  },
  {
   "cell_type": "code",
   "execution_count": null,
   "metadata": {
    "collapsed": true
   },
   "outputs": [],
   "source": [
    "top_10_rec = combined_phoebe_conc_pd.groupby(['Control Unit', 'Division', 'Department'])[['Total']].sum()\\\n",
    "                                    .sort_values(by='Total', ascending=False)\n",
    "top_10_rec.head(12)\n",
    "\n",
    "# bubble viz or tree map (include the bottom 10)"
   ]
  },
  {
   "cell_type": "code",
   "execution_count": null,
   "metadata": {
    "collapsed": true
   },
   "outputs": [],
   "source": [
    "bottom_10_rec = combined_phoebe_conc_pd.groupby(['Control Unit', 'Division', 'Department'])[['Total']].sum()\\\n",
    "                                    .sort_values(by='Total', ascending=True)\n",
    "bottom_10_rec[15:25]"
   ]
  },
  {
   "cell_type": "markdown",
   "metadata": {},
   "source": [
    "### Will have to think about if I want to include the above top 10 and bottom 10 and how those should be visualized. \n",
    "\n",
    "## Onto next: time series (viz 3) "
   ]
  },
  {
   "cell_type": "code",
   "execution_count": null,
   "metadata": {
    "collapsed": true
   },
   "outputs": [],
   "source": [
    "by_class_time = combined_phoebe_conc_pd.groupby(['Sponsor Class'])[['2014', '2015', '2016']].sum()\n",
    "by_class_time"
   ]
  },
  {
   "cell_type": "code",
   "execution_count": null,
   "metadata": {
    "collapsed": true
   },
   "outputs": [],
   "source": [
    "ax = by_class_time.transpose().plot.line(legend=False)\n",
    "ax.legend(loc=\"best\", prop={'size': 10})\n",
    "ax.grid(True)\n",
    "ax.set_ylabel(\"Funds ($)\", fontsize=8)\n",
    "ax.set_xlabel(\"Fiscal Year\", fontsize=8)\n"
   ]
  },
  {
   "cell_type": "code",
   "execution_count": null,
   "metadata": {
    "collapsed": true
   },
   "outputs": [],
   "source": [
    "# by_class_time.transpose().to_csv('by_class_time.csv')"
   ]
  },
  {
   "cell_type": "markdown",
   "metadata": {},
   "source": [
    "### Onto Viz 4: network graph by college / school"
   ]
  },
  {
   "cell_type": "code",
   "execution_count": null,
   "metadata": {
    "collapsed": true
   },
   "outputs": [],
   "source": [
    "\n",
    "def college_school():\n",
    "    bool_arr = []\n",
    "    for cu in combined_phoebe_conc_pd['Control Unit']:\n",
    "        if cu == \"L&S College of Letters & Sciences\" or cu == \"Colleges\" or cu == \"Schools\":\n",
    "            bool_arr += [True]\n",
    "        else:\n",
    "            bool_arr += [False]\n",
    "    return bool_arr"
   ]
  },
  {
   "cell_type": "code",
   "execution_count": null,
   "metadata": {
    "collapsed": true
   },
   "outputs": [],
   "source": [
    "bool_arr = college_school()"
   ]
  },
  {
   "cell_type": "code",
   "execution_count": null,
   "metadata": {
    "collapsed": true
   },
   "outputs": [],
   "source": [
    "bool_series = pd.Series(bool_arr)\n",
    "college_school_pd = combined_phoebe_conc_pd[bool_series.values]"
   ]
  },
  {
   "cell_type": "code",
   "execution_count": null,
   "metadata": {
    "collapsed": true
   },
   "outputs": [],
   "source": [
    "ls = college_school_pd[college_school_pd['Control Unit'] == \"L&S College of Letters & Sciences\"]\n",
    "coe = college_school_pd[college_school_pd['Division'] == \"College of Engineering\"]\n",
    "cnr = college_school_pd[college_school_pd['Division'] == \"CNR College of Natural Resources\"]\n",
    "coc = college_school_pd[college_school_pd['Division'].isin([\"College of Chemistry\", \"Chemistry Department\"])]\n",
    "ced = college_school_pd[college_school_pd['Division'] == \"College of Environmental Design\"]\n",
    "law = college_school_pd[college_school_pd['Division'] == \"School of Law\"]\n",
    "opt = college_school_pd[college_school_pd['Division'] == \"School of Optometry\"]\n",
    "sph = college_school_pd[college_school_pd['Division'] == \"School of Public Health\"]\n",
    "pp = college_school_pd[college_school_pd['Division'] == \"Goldman School of Public Policy\"]\n",
    "haas = college_school_pd[college_school_pd['Division'] == \"Haas School of Business (Division)\"]\n",
    "info = college_school_pd[college_school_pd['Division'] == \"School of Information\"]\n",
    "edu = college_school_pd[college_school_pd['Division'] == \"Graduate School of Education\"]\n",
    "sw = college_school_pd[college_school_pd['Division'] == \"School of Social Welfare\"]\n",
    "jour = college_school_pd[college_school_pd['Division'] == \"School of Journalism\"]"
   ]
  },
  {
   "cell_type": "code",
   "execution_count": null,
   "metadata": {
    "collapsed": true
   },
   "outputs": [],
   "source": [
    "college_schools_dfs = [ls, coe, cnr, coc, ced, law, opt, sph, pp, haas, info, edu, sw, jour]"
   ]
  },
  {
   "cell_type": "code",
   "execution_count": null,
   "metadata": {
    "collapsed": true
   },
   "outputs": [],
   "source": [
    "for elem in college_schools_dfs:\n",
    "    elem"
   ]
  },
  {
   "cell_type": "code",
   "execution_count": null,
   "metadata": {
    "collapsed": true
   },
   "outputs": [],
   "source": [
    "jour[jour['Total'] > 0].groupby(['Sponsor Class', 'Sponsor'])[['Total']].sum().reset_index().to_csv('rfund_jour.csv')"
   ]
  },
  {
   "cell_type": "code",
   "execution_count": null,
   "metadata": {
    "collapsed": true
   },
   "outputs": [],
   "source": [
    "jour[jour['Total'] > 0].groupby(['Sponsor Class', 'Sponsor'])[['Total']].sum().reset_index().shape"
   ]
  },
  {
   "cell_type": "markdown",
   "metadata": {
    "collapsed": true
   },
   "source": [
    "### Sept Restart"
   ]
  },
  {
   "cell_type": "code",
   "execution_count": null,
   "metadata": {
    "collapsed": true
   },
   "outputs": [],
   "source": [
    "test = \"United Technologies Corp (Incl. UTCR United Tech Res \"\n",
    "# \" \".join(test[0:([i for i, x in enumerate(truth) if x])[0]])\n",
    "truncate_names(test)\n",
    "# type(['United', 'Technologies', 'Corp', '(Incl.', 'UTCR', 'United', 'Tech', 'Res', ''])\n",
    "# t1 = \"Molecular & Cell Biology (yolo my girl)\"\n",
    "# [True if \"(\" in x else False for x in t1]\n",
    "# has_p = [True if x.find(\"(\") != -1 else False for x in test]\n",
    "# if np.any(has_p):\n",
    "#     print([i for i, x in enumerate(has_p) if x])"
   ]
  },
  {
   "cell_type": "code",
   "execution_count": null,
   "metadata": {
    "collapsed": true
   },
   "outputs": [],
   "source": [
    "# Method gets rid of extra information contained in parentheses, as well as abbreviations\n",
    "def truncate_names(name):\n",
    "    truncated = name.split(\" \")\n",
    "    modified = 0\n",
    "    \n",
    "    # abbrev\n",
    "    if np.all([True if x.isupper() else False for x in truncated[0]]):\n",
    "        if truncated[1][0] == truncated[0][0]:\n",
    "            truncated = truncated[1:]\n",
    "            modified = 1\n",
    "        else:\n",
    "            modified = 0\n",
    "    # parentheses\n",
    "    has_p = [True if x.find(\"(\") != -1 else False for x in truncated]\n",
    "    if np.any(has_p):\n",
    "        index = ([i for i, x in enumerate(has_p) if x][0])\n",
    "        truncated = \" \".join(truncated[0:index])\n",
    "        modified = 1\n",
    "    \n",
    "    if not modified:\n",
    "        return name\n",
    "    return \" \".join(truncated) if type(truncated) == list else truncated"
   ]
  },
  {
   "cell_type": "code",
   "execution_count": null,
   "metadata": {
    "collapsed": false,
    "scrolled": false
   },
   "outputs": [],
   "source": [
    "combined_phoebe_conc_pd_ds = Table().read_table('data/data_attempts/research_funding_FINAL.csv')\n",
    "combined_phoebe_conc_pd_ds.show(10)"
   ]
  },
  {
   "cell_type": "code",
   "execution_count": null,
   "metadata": {
    "collapsed": true
   },
   "outputs": [],
   "source": [
    "industry = combined_phoebe_conc_pd_ds.where('Sponsor Class', \"Industry\")\n",
    "industry = industry.with_column(\"Total\", industry.apply(lambda x, y, z: x+y+z, ['2014', '2015', '2016']))\\\n",
    "                    .select([1, 2, 3, 4, 'Total']).sort('Total', descending=True)"
   ]
  },
  {
   "cell_type": "code",
   "execution_count": null,
   "metadata": {
    "collapsed": true,
    "scrolled": true
   },
   "outputs": [],
   "source": [
    "industry_top50 = industry.take(np.arange(50))"
   ]
  },
  {
   "cell_type": "code",
   "execution_count": null,
   "metadata": {
    "collapsed": false
   },
   "outputs": [],
   "source": [
    "industry_other = industry.take(np.arange(50, industry.num_rows))\n",
    "industry_other.num_rows"
   ]
  },
  {
   "cell_type": "code",
   "execution_count": null,
   "metadata": {
    "collapsed": true
   },
   "outputs": [],
   "source": [
    "industry_top50_null = industry_top50.where(\"Department\", \"Null\").select([\"Sponsor\", 'Division', \"Total\"]).relabel(\"Division\", \"Department\")\n",
    "industry_top50 = industry_top50.where(industry_top50.column(\"Department\") != \"Null\").select(['Sponsor','Department', 'Total']).append(industry_top50_null)\n",
    "industry_null = industry_other.where(\"Department\", \"Null\").select([\"Sponsor\", 'Division', \"Total\"]).relabel(\"Division\", \"Department\")\n",
    "industry_other = industry_other.where(industry_other.column(\"Department\") != \"Null\").select(['Sponsor','Department', 'Total']).append(industry_null)"
   ]
  },
  {
   "cell_type": "code",
   "execution_count": null,
   "metadata": {
    "collapsed": false
   },
   "outputs": [],
   "source": [
    "# For other mapping:\n",
    "industry_other = industry_other.with_columns(['Sponsor', industry_other.apply(truncate_names, ['Sponsor']),\n",
    "                                              'Department', industry_other.apply(truncate_names, ['Department'])])\\\n",
    "                               .where('Total', are.above(0))\n",
    "industry_other.show(3)"
   ]
  },
  {
   "cell_type": "code",
   "execution_count": null,
   "metadata": {
    "collapsed": false,
    "scrolled": true
   },
   "outputs": [],
   "source": [
    "other_grouped = industry_other.select('Department','Total').group('Department', sum).relabel('Total sum', 'Total')\n",
    "other_grouped = other_grouped.with_column('Sponsor', ['Other'] * other_grouped.num_rows)\n",
    "other_grouped"
   ]
  },
  {
   "cell_type": "code",
   "execution_count": null,
   "metadata": {
    "collapsed": false
   },
   "outputs": [],
   "source": [
    "industry_all = industry_top50.append(other_grouped)\n",
    "\n",
    "industry_all = industry_all.with_columns(['Sponsor', industry_all.apply(truncate_names, ['Sponsor']),\n",
    "                                          'Department', industry_all.apply(truncate_names, ['Department'])])\n",
    "industry_all.num_rows"
   ]
  },
  {
   "cell_type": "code",
   "execution_count": null,
   "metadata": {
    "collapsed": false
   },
   "outputs": [],
   "source": [
    "industry_all.sort('Total', descending=True)"
   ]
  },
  {
   "cell_type": "code",
   "execution_count": null,
   "metadata": {
    "collapsed": false
   },
   "outputs": [],
   "source": [
    "# Other mapping \n",
    "\n",
    "# Building json file \n",
    "# data = {}\n",
    "# data['key'] = 'value'\n",
    "# json_data = json.dumps(data)\n",
    "# 'key' in (data.keys())\n",
    "industry_other_grouped = industry_other.group('Department', lambda x: x)\n",
    "industry_other_grouped = industry_other_grouped.with_column('tuples', \n",
    "                            industry_other_grouped.apply(lambda s, t: list(zip(s, t)), [1, 2]))\n",
    "industry_other_grouped.show(4)"
   ]
  },
  {
   "cell_type": "code",
   "execution_count": null,
   "metadata": {
    "collapsed": true
   },
   "outputs": [],
   "source": [
    "# Other mapping \n",
    "\n",
    "t1 = industry_other_grouped.column(1)[3]\n",
    "t2 = industry_other_grouped.column(2)[3]\n",
    "# for elem in zip(t1, t2):\n",
    "#     print(elem)\n",
    "for pair in list(zip(t1, t2)):\n",
    "    print(pair)\n",
    "# {\"Botanical Garden\": [{'sponsor':'Vollmar Natural Lands Consulting', 'value': 41000}, ....]}"
   ]
  },
  {
   "cell_type": "code",
   "execution_count": null,
   "metadata": {
    "collapsed": true,
    "scrolled": true
   },
   "outputs": [],
   "source": [
    "# Other mapping \n",
    "\n",
    "other_mapping = {}\n",
    "targets = industry_other_grouped.column('Department')\n",
    "tuples = industry_other_grouped.column('tuples')\n",
    "for i in range(industry_other_grouped.num_rows):\n",
    "    submapping = []\n",
    "    for pair in tuples[i]:\n",
    "        sub = {}\n",
    "        sub['sponsor'] = pair[0]\n",
    "        sub['value'] = pair[1]\n",
    "        submapping += [sub]\n",
    "    other_mapping[targets[i]] = submapping\n",
    "other_mapping"
   ]
  },
  {
   "cell_type": "code",
   "execution_count": null,
   "metadata": {
    "collapsed": true
   },
   "outputs": [],
   "source": [
    "def nodes_links(table):\n",
    "    # NODES\n",
    "    industry_json = {}\n",
    "    nodes = []\n",
    "    links = []\n",
    "    nodes_details = {}\n",
    "    sponsors = table.column('Sponsor')\n",
    "    depts = table.column('Department')\n",
    "    total = table.column('Total')\n",
    "    index = 0\n",
    "    for i in range(table.num_rows):\n",
    "        node_json = {}\n",
    "        if sponsors[i] not in nodes_details.keys():\n",
    "            nodes_details[sponsors[i]] = index\n",
    "            node_json['name'] = sponsors[i]\n",
    "            node_json['cat'] = \"\"\n",
    "            index += 1\n",
    "            nodes = nodes + [node_json]\n",
    "        node_json1 = {}\n",
    "        if depts[i] not in nodes_details.keys():\n",
    "            nodes_details[depts[i]] = index\n",
    "            node_json1['name'] = depts[i]\n",
    "            node_json1['cat'] = \"\"\n",
    "            index += 1\n",
    "            nodes = nodes + [node_json1]\n",
    "    # LINKS\n",
    "    for i in range(table.num_rows):\n",
    "        link_json = {}\n",
    "        link_json['source'] = nodes_details[sponsors[i]]\n",
    "        link_json['target'] = nodes_details[depts[i]]\n",
    "        link_json['value'] = total[i]\n",
    "        links += [link_json]\n",
    "    industry_data = {}\n",
    "    industry_data['nodes'] = nodes\n",
    "    industry_data['links'] = links\n",
    "    return industry_data"
   ]
  },
  {
   "cell_type": "code",
   "execution_count": null,
   "metadata": {
    "collapsed": true
   },
   "outputs": [],
   "source": [
    "# LINKS\n",
    "# for i in range(industry_all.num_rows):\n",
    "#     link_json = {}\n",
    "#     link_json['source'] = nodes_details[sponsors[i]]\n",
    "#     link_json['target'] = nodes_details[depts[i]]\n",
    "#     link_json['value'] = total[i]\n",
    "#     links += [link_json]"
   ]
  },
  {
   "cell_type": "code",
   "execution_count": null,
   "metadata": {
    "collapsed": true
   },
   "outputs": [],
   "source": [
    "# industry_data = {}\n",
    "# industry_data['nodes'] = nodes\n",
    "# industry_data['links'] = links\n",
    "# industry_json_data = json.dumps(industry_data)"
   ]
  },
  {
   "cell_type": "code",
   "execution_count": null,
   "metadata": {
    "collapsed": false
   },
   "outputs": [],
   "source": [
    "industry_data"
   ]
  },
  {
   "cell_type": "code",
   "execution_count": null,
   "metadata": {
    "collapsed": false
   },
   "outputs": [],
   "source": [
    "nodes_links(industry_all)"
   ]
  },
  {
   "cell_type": "code",
   "execution_count": null,
   "metadata": {
    "collapsed": false
   },
   "outputs": [],
   "source": [
    "# Checking data -- something weird happened with industry_all but data in industry_1002.json is accurate \n",
    "print(sum(industry_all.where('Department', 'The California Institute for Quantitative Biosciences').column(\"Total\")),\n",
    "sum(industry.where(\"Department\", \"The California Institute for Quantitative Biosciences (QB3)\").column(\"Total\")))"
   ]
  },
  {
   "cell_type": "code",
   "execution_count": null,
   "metadata": {
    "collapsed": true
   },
   "outputs": [],
   "source": [
    "nodes_links(industry_all.where('Sponsor', 'Pfizer, Inc.'))"
   ]
  },
  {
   "cell_type": "markdown",
   "metadata": {
    "collapsed": true
   },
   "source": [
    "### Stacked Area Chart"
   ]
  },
  {
   "cell_type": "code",
   "execution_count": null,
   "metadata": {
    "collapsed": true
   },
   "outputs": [],
   "source": [
    "sac = combined_phoebe_conc_pd_ds.group('Sponsor Class', sum).select([0, 6, 7, 8])\n",
    "sac = sac.with_column('Sponsor Class', sac.apply(lambda x: \"Other\" if x != \"Industry\" else \"Industry\", \"Sponsor Class\"))\n",
    "sac = sac.group('Sponsor Class', sum).relabel('2014 sum sum', '2014').relabel('2015 sum sum', '2015').relabel('2016 sum sum', '2016')\n",
    "sac"
   ]
  },
  {
   "cell_type": "code",
   "execution_count": null,
   "metadata": {
    "collapsed": true
   },
   "outputs": [],
   "source": [
    "sacdf = sac.to_df()\n",
    "sacdf.transpose().to_csv('sac_rfund_year.csv')"
   ]
  },
  {
   "cell_type": "code",
   "execution_count": null,
   "metadata": {
    "collapsed": true
   },
   "outputs": [],
   "source": [
    "sac= Table().read_table('sac_rfund_year.csv')\n",
    "sac"
   ]
  },
  {
   "cell_type": "code",
   "execution_count": null,
   "metadata": {
    "collapsed": true
   },
   "outputs": [],
   "source": [
    "sac= Table().read_table('sac_rfund_year.csv')\n",
    "sac = sac.with_column('Total', sac.column('Industry') + sac.column('Other'))\n",
    "perc = lambda x, total: (x/total) * 100\n",
    "sac = sac.with_columns(['Industry', sac.apply(perc, [1, 3]),\n",
    "                        'Other', sac.apply(perc, [2, 3])])\n",
    "sac"
   ]
  },
  {
   "cell_type": "code",
   "execution_count": null,
   "metadata": {
    "collapsed": true
   },
   "outputs": [],
   "source": [
    "# From https://stackoverflow.com/questions/16875546/create-a-100-stacked-area-chart-with-matplotlib\n",
    "fnx = lambda : np.random.randint(5, 50, 10)\n",
    "y = np.row_stack((fnx(), fnx(), fnx()))\n",
    "x = np.arange(10)\n",
    "\n",
    "# Make new array consisting of fractions of column-totals,\n",
    "# using .astype(float) to avoid integer division\n",
    "percent = y /  y.sum(axis=0).astype(float) * 100 \n",
    "\n",
    "# fig = plt.figure()\n",
    "# ax = fig.add_subplot(111)\n",
    "\n",
    "# ax.stackplot(sac.column('Year'), percent)\n",
    "# ax.set_title('100 % stacked area chart')\n",
    "# ax.set_ylabel('Percent (%)')\n",
    "# ax.margins(0, 0) # Set margins to avoid \"whitespace\"\n",
    "\n",
    "# plt.show()\n",
    "percent"
   ]
  },
  {
   "cell_type": "code",
   "execution_count": null,
   "metadata": {
    "collapsed": true
   },
   "outputs": [],
   "source": [
    "y = np.row_stack((sac.column('Industry'), sac.column(\"Other\")))\n",
    "x = sac.column('Year')\n",
    "\n",
    "# Make new array consisting of fractions of column-totals,\n",
    "# using .astype(float) to avoid integer division\n",
    "\n",
    "fig = plt.figure()\n",
    "ax = fig.add_subplot(111)\n",
    "\n",
    "ax.stackplot(x, y)\n",
    "ax.set_title('100 % stacked area chart')\n",
    "ax.set_ylabel('Percent (%)')\n",
    "ax.margins(0, 0) # Set margins to avoid \"whitespace\"\n",
    "\n",
    "plt.show()"
   ]
  },
  {
   "cell_type": "code",
   "execution_count": null,
   "metadata": {
    "collapsed": true
   },
   "outputs": [],
   "source": [
    "N = 3\n",
    "menMeans = tuple(sac.column(\"Other\"))\n",
    "womenMeans = tuple(sac.column(\"Industry\"))\n",
    "ind = np.arange(N)    # the x locations for the groups\n",
    "width = 0.35       # the width of the bars: can also be len(x) sequence\n",
    "\n",
    "p1 = plt.bar(ind, menMeans, width)\n",
    "p2 = plt.bar(ind, womenMeans, width,\n",
    "             bottom=menMeans)\n",
    "\n",
    "plt.ylabel('Awards')\n",
    "plt.title('Industry Awards vs. All Other Awards')\n",
    "plt.xticks(ind, ('2014', '2015', '2016'))\n",
    "plt.yticks(np.arange(0, 80, 9))\n",
    "# plt.legend((p1[0], p2[0]), ('Other', 'Industry'))\n",
    "\n",
    "# plt.show()"
   ]
  },
  {
   "cell_type": "markdown",
   "metadata": {
    "collapsed": true
   },
   "source": [
    "### Non-stem/stem"
   ]
  },
  {
   "cell_type": "code",
   "execution_count": null,
   "metadata": {
    "collapsed": true,
    "scrolled": true
   },
   "outputs": [],
   "source": [
    "# Divisions\n",
    "stem = ['CNR College of Natural Resources', 'Chemistry Department', 'College of Chemistry',\n",
    "       'College of Engineering', 'College of Environmental Design', 'Division of Physical Sciences',\n",
    "       'L&S Biological Sciences', 'School of Information', 'School of Optometry', \n",
    "       ]\n",
    "other = ['Strategic Academic and Facilities Planning', 'UC Library', \n",
    "        'Vice Provost Academic Affairs & Faculty Welfare', 'Vice Chancellor - Student Affairs Division',\n",
    "        'Vice Chancellor - Real Estate', 'Vice Chancellor - Administration', \n",
    "        'VP Academic Planning & Fac', 'Office of Equity & Inclusion',\n",
    "         'EVCP Executive Vice Chancellor & Provost']"
   ]
  },
  {
   "cell_type": "code",
   "execution_count": null,
   "metadata": {
    "collapsed": false
   },
   "outputs": [],
   "source": [
    "industry.show()"
   ]
  },
  {
   "cell_type": "code",
   "execution_count": null,
   "metadata": {
    "collapsed": true
   },
   "outputs": [],
   "source": [
    "# if division or department includes sciences, chemistry, engineering, transportation, \n",
    "def non_stem(div, dept):\n",
    "    keywords = ['social sciences', 'international studies', 'education', 'labor and employment',\n",
    "               'law', 'haas', 'regional development', 'humanities']\n",
    "    div_ = np.any([x in div.lower() for x in keywords])\n",
    "    dept_ = np.any([x in dept.lower() for x in keywords])\n",
    "    return div_ or dept_"
   ]
  },
  {
   "cell_type": "code",
   "execution_count": null,
   "metadata": {
    "collapsed": false
   },
   "outputs": [],
   "source": [
    "stem_industry = industry.with_column('Non_Stem',\n",
    "                                    industry.apply(non_stem, ['Division', 'Department']))\n",
    "stem_industry.where('Non_Stem', True).num_rows"
   ]
  },
  {
   "cell_type": "code",
   "execution_count": null,
   "metadata": {
    "collapsed": false
   },
   "outputs": [],
   "source": [
    "non = sum(stem_industry.where('Non_Stem', True).column('Total'))\n",
    "stem = sum(stem_industry.where('Non_Stem', False).column('Total'))\n",
    "print(non, \"to non-stem from industry\")\n",
    "print(stem, \"to stem from industry\")\n",
    "print(stem/non ,\": 1 stem to non-stem ratio\")"
   ]
  },
  {
   "cell_type": "code",
   "execution_count": null,
   "metadata": {
    "collapsed": true
   },
   "outputs": [],
   "source": []
  },
  {
   "cell_type": "markdown",
   "metadata": {},
   "source": [
    "### Other analysis on private funding"
   ]
  },
  {
   "cell_type": "code",
   "execution_count": null,
   "metadata": {
    "collapsed": false
   },
   "outputs": [],
   "source": [
    "industry.where(\"Total\", are.below(0)).group('Department', sum).sort(\"Total sum\", descending=False)\n",
    "# Null is School of Optometry"
   ]
  },
  {
   "cell_type": "code",
   "execution_count": null,
   "metadata": {
    "collapsed": true
   },
   "outputs": [],
   "source": []
  }
 ],
 "metadata": {
  "anaconda-cloud": {},
  "kernelspec": {
   "display_name": "Python [Root]",
   "language": "python",
   "name": "Python [Root]"
  },
  "language_info": {
   "codemirror_mode": {
    "name": "ipython",
    "version": 3
   },
   "file_extension": ".py",
   "mimetype": "text/x-python",
   "name": "python",
   "nbconvert_exporter": "python",
   "pygments_lexer": "ipython3",
   "version": "3.5.2"
  }
 },
 "nbformat": 4,
 "nbformat_minor": 1
}
