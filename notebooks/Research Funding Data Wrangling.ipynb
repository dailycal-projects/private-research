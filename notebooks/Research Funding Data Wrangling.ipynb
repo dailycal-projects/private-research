{
 "cells": [
  {
   "cell_type": "code",
   "execution_count": 131,
   "metadata": {},
   "outputs": [],
   "source": [
    "from datascience import *\n",
    "import numpy as np\n",
    "import pandas as pd\n",
    "import matplotlib.pyplot as plt\n",
    "%matplotlib inline\n",
    "plt.style.use('fivethirtyeight')\n",
    "import json"
   ]
  },
  {
   "cell_type": "code",
   "execution_count": 132,
   "metadata": {},
   "outputs": [
    {
     "data": {
      "text/html": [
       "<table border=\"1\" class=\"dataframe\">\n",
       "    <thead>\n",
       "        <tr>\n",
       "            <th>Control Unit</th> <th>Division</th> <th>Department</th> <th>Direct Sponsor</th> <th>2014</th> <th>2015</th> <th>2016</th>\n",
       "        </tr>\n",
       "    </thead>\n",
       "    <tbody>\n",
       "        <tr>\n",
       "            <td>Campus Support</td> <td>Vice Chancellor - Administration</td> <td>Finance                              </td> <td>LBNL Lawrence Berkeley Nati..  </td> <td>$75,000  </td> <td>$400,000 </td> <td>nan      </td>\n",
       "        </tr>\n",
       "    </tbody>\n",
       "        <tr>\n",
       "            <td>Campus Support</td> <td>Vice Chancellor - Administration</td> <td>Finance                              </td> <td>SAMHSA Center for Substanc..   </td> <td>$0       </td> <td>$0       </td> <td>nan      </td>\n",
       "        </tr>\n",
       "    </tbody>\n",
       "        <tr>\n",
       "            <td>Campus Support</td> <td>Vice Chancellor - Administration</td> <td>Finance                              </td> <td>UC Office of the President     </td> <td>$0       </td> <td>nan      </td> <td>nan      </td>\n",
       "        </tr>\n",
       "    </tbody>\n",
       "        <tr>\n",
       "            <td>Campus Support</td> <td>Vice Chancellor - Administration</td> <td>Information Services & Technology    </td> <td>Andrew W Mellon Foundation     </td> <td>$150,000 </td> <td>$0       </td> <td>nan      </td>\n",
       "        </tr>\n",
       "    </tbody>\n",
       "        <tr>\n",
       "            <td>Campus Support</td> <td>Vice Chancellor - Administration</td> <td>Information Services & Technology    </td> <td>LYRASIS                        </td> <td>nan      </td> <td>$100,018 </td> <td>$70,854  </td>\n",
       "        </tr>\n",
       "    </tbody>\n",
       "        <tr>\n",
       "            <td>Campus Support</td> <td>Vice Chancellor - Administration</td> <td>Information Services & Technology    </td> <td>NSF National Science Founda..  </td> <td>nan      </td> <td>nan      </td> <td>$399,446 </td>\n",
       "        </tr>\n",
       "    </tbody>\n",
       "        <tr>\n",
       "            <td>Campus Support</td> <td>Vice Chancellor - Administration</td> <td>International House                  </td> <td>Middlebury College             </td> <td>nan      </td> <td>$10,000  </td> <td>nan      </td>\n",
       "        </tr>\n",
       "    </tbody>\n",
       "        <tr>\n",
       "            <td>Campus Support</td> <td>Vice Chancellor - Administration</td> <td>Public Safety                        </td> <td>Bay Areas Urban Area Securit.. </td> <td>$327,226 </td> <td>$30,145  </td> <td>nan      </td>\n",
       "        </tr>\n",
       "    </tbody>\n",
       "        <tr>\n",
       "            <td>Campus Support</td> <td>Vice Chancellor - Real Estate   </td> <td>Physical Plant Campus Services       </td> <td>California Emergency Manage..  </td> <td>nan      </td> <td>nan      </td> <td>$573,828 </td>\n",
       "        </tr>\n",
       "    </tbody>\n",
       "        <tr>\n",
       "            <td>Colleges      </td> <td>CNR College of Natural Resources</td> <td>Null                                 </td> <td>Abt Associates, Inc.           </td> <td>$73,942  </td> <td>nan      </td> <td>nan      </td>\n",
       "        </tr>\n",
       "    </tbody>\n",
       "        <tr>\n",
       "            <td>Colleges      </td> <td>CNR College of Natural Resources</td> <td>Null                                 </td> <td>California Department of Fore..</td> <td>nan      </td> <td>$0       </td> <td>$0       </td>\n",
       "        </tr>\n",
       "    </tbody>\n",
       "        <tr>\n",
       "            <td>Colleges      </td> <td>CNR College of Natural Resources</td> <td>Null                                 </td> <td>NIH Office of the Director     </td> <td>$600,000 </td> <td>nan      </td> <td>nan      </td>\n",
       "        </tr>\n",
       "    </tbody>\n",
       "        <tr>\n",
       "            <td>Colleges      </td> <td>CNR College of Natural Resources</td> <td>Null                                 </td> <td>Oregon, State of               </td> <td>$10,000  </td> <td>nan      </td> <td>nan      </td>\n",
       "        </tr>\n",
       "    </tbody>\n",
       "        <tr>\n",
       "            <td>Colleges      </td> <td>CNR College of Natural Resources</td> <td>Null                                 </td> <td>Research Triangle Institute    </td> <td>nan      </td> <td>$113,844 </td> <td>($81,879)</td>\n",
       "        </tr>\n",
       "    </tbody>\n",
       "        <tr>\n",
       "            <td>Colleges      </td> <td>CNR College of Natural Resources</td> <td>Null                                 </td> <td>UC Davis                       </td> <td>$141,530 </td> <td>$48,763  </td> <td>$0       </td>\n",
       "        </tr>\n",
       "    </tbody>\n",
       "        <tr>\n",
       "            <td>Colleges      </td> <td>CNR College of Natural Resources</td> <td>Null                                 </td> <td>UC San Francisco               </td> <td>nan      </td> <td>nan      </td> <td>$31,424  </td>\n",
       "        </tr>\n",
       "    </tbody>\n",
       "        <tr>\n",
       "            <td>Colleges      </td> <td>CNR College of Natural Resources</td> <td>Null                                 </td> <td>USDA Forest Service            </td> <td>$0       </td> <td>nan      </td> <td>nan      </td>\n",
       "        </tr>\n",
       "    </tbody>\n",
       "        <tr>\n",
       "            <td>Colleges      </td> <td>CNR College of Natural Resources</td> <td>ARE Agricultural & Resource Economics</td> <td>California Department of Indu..</td> <td>nan      </td> <td>nan      </td> <td>$58,222  </td>\n",
       "        </tr>\n",
       "    </tbody>\n",
       "        <tr>\n",
       "            <td>Colleges      </td> <td>CNR College of Natural Resources</td> <td>ARE Agricultural & Resource Economics</td> <td>California Department of Wate..</td> <td>nan      </td> <td>nan      </td> <td>$248,027 </td>\n",
       "        </tr>\n",
       "    </tbody>\n",
       "        <tr>\n",
       "            <td>Colleges      </td> <td>CNR College of Natural Resources</td> <td>ARE Agricultural & Resource Economics</td> <td>California Dried Plum Board    </td> <td>$53,172  </td> <td>$54,541  </td> <td>$55,952  </td>\n",
       "        </tr>\n",
       "    </tbody>\n",
       "</table>\n",
       "<p>... (2852 rows omitted)</p"
      ],
      "text/plain": [
       "<IPython.core.display.HTML object>"
      ]
     },
     "metadata": {},
     "output_type": "display_data"
    }
   ],
   "source": [
    "# 10/08 Note: research_fund_comb.csv is a complete csv of the initial pdf file \n",
    "combined_t = Table.read_table('data/research_fund_comb.csv')\n",
    "combined_t.show(20)"
   ]
  },
  {
   "cell_type": "code",
   "execution_count": 133,
   "metadata": {},
   "outputs": [
    {
     "data": {
      "text/html": [
       "<table border=\"1\" class=\"dataframe\">\n",
       "    <thead>\n",
       "        <tr>\n",
       "            <th>Control Unit</th> <th>Division</th> <th>Department</th> <th>Direct Sponsor</th> <th>2014</th> <th>2015</th> <th>2016</th>\n",
       "        </tr>\n",
       "    </thead>\n",
       "    <tbody>\n",
       "        <tr>\n",
       "            <td>Colleges                  </td> <td>College of Chemistry             </td> <td>Chemical and Biomolecular Engineering                      </td> <td>BP Group (BP America, BP E..</td> <td>nan       </td> <td>$1,350,000 </td> <td>nan        </td>\n",
       "        </tr>\n",
       "    </tbody>\n",
       "        <tr>\n",
       "            <td>Colleges                  </td> <td>College of Engineering           </td> <td>ERSO Engineering Research Support Organization             </td> <td>BP Group (BP America, BP E..</td> <td>($200,000)</td> <td>nan        </td> <td>nan        </td>\n",
       "        </tr>\n",
       "    </tbody>\n",
       "        <tr>\n",
       "            <td>Vice Chancellor - Research</td> <td>VC Res Other Research Units      </td> <td>EBI Energy Biosciences Institute                           </td> <td>BP Group (BP America, BP E..</td> <td>nan       </td> <td>nan        </td> <td>$5,000,000 </td>\n",
       "        </tr>\n",
       "    </tbody>\n",
       "        <tr>\n",
       "            <td>Vice Chancellor - Research</td> <td>VC Res Other Research Units      </td> <td>The California Institute for Quantitative Biosciences (QB3)</td> <td>BP Group (BP America, BP E..</td> <td>$10,000   </td> <td>nan        </td> <td>nan        </td>\n",
       "        </tr>\n",
       "    </tbody>\n",
       "        <tr>\n",
       "            <td>Vice Chancellor - Research</td> <td>Vice Chancellor for Research ORUs</td> <td>Null                                                       </td> <td>BP Group (BP America, BP E..</td> <td>$0        </td> <td>$0         </td> <td>$0         </td>\n",
       "        </tr>\n",
       "    </tbody>\n",
       "</table>"
      ],
      "text/plain": [
       "Control Unit               | Division                          | Department                                                  | Direct Sponsor               | 2014       | 2015        | 2016\n",
       "Colleges                   | College of Chemistry              | Chemical and Biomolecular Engineering                       | BP Group (BP America, BP E.. | nan        | $1,350,000  | nan\n",
       "Colleges                   | College of Engineering            | ERSO Engineering Research Support Organization              | BP Group (BP America, BP E.. | ($200,000) | nan         | nan\n",
       "Vice Chancellor - Research | VC Res Other Research Units       | EBI Energy Biosciences Institute                            | BP Group (BP America, BP E.. | nan        | nan         | $5,000,000\n",
       "Vice Chancellor - Research | VC Res Other Research Units       | The California Institute for Quantitative Biosciences (QB3) | BP Group (BP America, BP E.. | $10,000    | nan         | nan\n",
       "Vice Chancellor - Research | Vice Chancellor for Research ORUs | Null                                                        | BP Group (BP America, BP E.. | $0         | $0          | $0"
      ]
     },
     "execution_count": 133,
     "metadata": {},
     "output_type": "execute_result"
    }
   ],
   "source": [
    "combined_t.where('Direct Sponsor', 'BP Group (BP America, BP E..')"
   ]
  },
  {
   "cell_type": "code",
   "execution_count": 134,
   "metadata": {},
   "outputs": [
    {
     "data": {
      "text/html": [
       "<table border=\"1\" class=\"dataframe\">\n",
       "    <thead>\n",
       "        <tr>\n",
       "            <th>Sponsor Class</th> <th>Sponsor Category</th> <th>Sponsor Type</th> <th>Sponsor Code</th> <th>Sponsor</th> <th>Sponsor Acronym</th>\n",
       "        </tr>\n",
       "    </thead>\n",
       "    <tbody>\n",
       "        <tr>\n",
       "            <td>Federal      </td> <td>Other Federal Category</td> <td>All Other Federal</td> <td>150         </td> <td>CIA Central Intelligence Agency               </td> <td>CIA            </td>\n",
       "        </tr>\n",
       "    </tbody>\n",
       "        <tr>\n",
       "            <td>Federal      </td> <td>Other Federal Category</td> <td>All Other Federal</td> <td>5510        </td> <td>Federal Mediation & Conciliation Service      </td> <td>FMCS           </td>\n",
       "        </tr>\n",
       "    </tbody>\n",
       "        <tr>\n",
       "            <td>Federal      </td> <td>Other Federal Category</td> <td>All Other Federal</td> <td>5440        </td> <td>National Commission on Air Quality            </td> <td>nan            </td>\n",
       "        </tr>\n",
       "    </tbody>\n",
       "        <tr>\n",
       "            <td>Federal      </td> <td>Other Federal Category</td> <td>All Other Federal</td> <td>5350        </td> <td>VA Department of Veterans Affairs             </td> <td>VA             </td>\n",
       "        </tr>\n",
       "    </tbody>\n",
       "        <tr>\n",
       "            <td>Federal      </td> <td>Other Federal Category</td> <td>All Other Federal</td> <td>5325        </td> <td>Smithsonian - National Museum Natural History </td> <td>nan            </td>\n",
       "        </tr>\n",
       "    </tbody>\n",
       "        <tr>\n",
       "            <td>Federal      </td> <td>Other Federal Category</td> <td>All Other Federal</td> <td>5305        </td> <td>Smithsonian - Office of Fellowships & Grants  </td> <td>nan            </td>\n",
       "        </tr>\n",
       "    </tbody>\n",
       "        <tr>\n",
       "            <td>Federal      </td> <td>Other Federal Category</td> <td>All Other Federal</td> <td>5302        </td> <td>Smithsonian - Office of Environmental Sciences</td> <td>nan            </td>\n",
       "        </tr>\n",
       "    </tbody>\n",
       "        <tr>\n",
       "            <td>Federal      </td> <td>Other Federal Category</td> <td>All Other Federal</td> <td>5301        </td> <td>Smithsonian Institution                       </td> <td>nan            </td>\n",
       "        </tr>\n",
       "    </tbody>\n",
       "        <tr>\n",
       "            <td>Federal      </td> <td>Other Federal Category</td> <td>All Other Federal</td> <td>5290        </td> <td>National Archives and Records Administration  </td> <td>nan            </td>\n",
       "        </tr>\n",
       "    </tbody>\n",
       "        <tr>\n",
       "            <td>Federal      </td> <td>Other Federal Category</td> <td>All Other Federal</td> <td>5285        </td> <td>SBA Small Business Administration             </td> <td>SBA            </td>\n",
       "        </tr>\n",
       "    </tbody>\n",
       "</table>\n",
       "<p>... (7202 rows omitted)</p"
      ],
      "text/plain": [
       "Sponsor Class | Sponsor Category       | Sponsor Type      | Sponsor Code | Sponsor                                        | Sponsor Acronym\n",
       "Federal       | Other Federal Category | All Other Federal | 150          | CIA Central Intelligence Agency                | CIA\n",
       "Federal       | Other Federal Category | All Other Federal | 5510         | Federal Mediation & Conciliation Service       | FMCS\n",
       "Federal       | Other Federal Category | All Other Federal | 5440         | National Commission on Air Quality             | nan\n",
       "Federal       | Other Federal Category | All Other Federal | 5350         | VA Department of Veterans Affairs              | VA\n",
       "Federal       | Other Federal Category | All Other Federal | 5325         | Smithsonian - National Museum Natural History  | nan\n",
       "Federal       | Other Federal Category | All Other Federal | 5305         | Smithsonian - Office of Fellowships & Grants   | nan\n",
       "Federal       | Other Federal Category | All Other Federal | 5302         | Smithsonian - Office of Environmental Sciences | nan\n",
       "Federal       | Other Federal Category | All Other Federal | 5301         | Smithsonian Institution                        | nan\n",
       "Federal       | Other Federal Category | All Other Federal | 5290         | National Archives and Records Administration   | nan\n",
       "Federal       | Other Federal Category | All Other Federal | 5285         | SBA Small Business Administration              | SBA\n",
       "... (7202 rows omitted)"
      ]
     },
     "execution_count": 134,
     "metadata": {},
     "output_type": "execute_result"
    }
   ],
   "source": [
    "# 10/09 Note: All sponsors downloaded from the Cal Phoebe site \n",
    "phoebe = Table.read_table(\"data/PhoebeSearchResults.csv\")\n",
    "phoebe"
   ]
  },
  {
   "cell_type": "code",
   "execution_count": 135,
   "metadata": {},
   "outputs": [
    {
     "data": {
      "text/html": [
       "<table border=\"1\" class=\"dataframe\">\n",
       "    <thead>\n",
       "        <tr>\n",
       "            <th>Sponsor Class</th> <th>Sponsor Category</th> <th>Sponsor Type</th> <th>Sponsor Code</th> <th>Sponsor</th> <th>Sponsor Acronym</th>\n",
       "        </tr>\n",
       "    </thead>\n",
       "    <tbody>\n",
       "        <tr>\n",
       "            <td>Not for Profit</td> <td>Business Related Nonprofit Institutes and Associat</td> <td>Foreign Trade Associations</td> <td>4591        </td> <td>Stifterverband fur die Deutsch</td> <td>nan            </td>\n",
       "        </tr>\n",
       "    </tbody>\n",
       "</table>"
      ],
      "text/plain": [
       "Sponsor Class  | Sponsor Category                                   | Sponsor Type               | Sponsor Code | Sponsor                        | Sponsor Acronym\n",
       "Not for Profit | Business Related Nonprofit Institutes and Associat | Foreign Trade Associations | 4591         | Stifterverband fur die Deutsch | nan"
      ]
     },
     "execution_count": 135,
     "metadata": {},
     "output_type": "execute_result"
    }
   ],
   "source": [
    "phoebe.where('Sponsor', 'Stifterverband fur die Deutsch')"
   ]
  },
  {
   "cell_type": "code",
   "execution_count": 136,
   "metadata": {},
   "outputs": [
    {
     "data": {
      "text/html": [
       "<table border=\"1\" class=\"dataframe\">\n",
       "    <thead>\n",
       "        <tr>\n",
       "            <th>Sponsor Class</th> <th>Sponsor Category</th> <th>Sponsor Type</th> <th>Sponsor Code</th> <th>Sponsor</th> <th>Sponsor Acronym</th> <th>SponsorName_trunc</th>\n",
       "        </tr>\n",
       "    </thead>\n",
       "    <tbody>\n",
       "        <tr>\n",
       "            <td>Federal      </td> <td>Other Federal Category</td> <td>All Other Federal</td> <td>150         </td> <td>CIA Central Intelligence Agency               </td> <td>CIA            </td> <td>CIA Central Intelligence Age</td>\n",
       "        </tr>\n",
       "    </tbody>\n",
       "        <tr>\n",
       "            <td>Federal      </td> <td>Other Federal Category</td> <td>All Other Federal</td> <td>5510        </td> <td>Federal Mediation & Conciliation Service      </td> <td>FMCS           </td> <td>Federal Mediation & Concilia</td>\n",
       "        </tr>\n",
       "    </tbody>\n",
       "        <tr>\n",
       "            <td>Federal      </td> <td>Other Federal Category</td> <td>All Other Federal</td> <td>5440        </td> <td>National Commission on Air Quality            </td> <td>nan            </td> <td>National Commission on Air Q</td>\n",
       "        </tr>\n",
       "    </tbody>\n",
       "        <tr>\n",
       "            <td>Federal      </td> <td>Other Federal Category</td> <td>All Other Federal</td> <td>5350        </td> <td>VA Department of Veterans Affairs             </td> <td>VA             </td> <td>VA Department of Veterans Af</td>\n",
       "        </tr>\n",
       "    </tbody>\n",
       "        <tr>\n",
       "            <td>Federal      </td> <td>Other Federal Category</td> <td>All Other Federal</td> <td>5325        </td> <td>Smithsonian - National Museum Natural History </td> <td>nan            </td> <td>Smithsonian - National Museu</td>\n",
       "        </tr>\n",
       "    </tbody>\n",
       "        <tr>\n",
       "            <td>Federal      </td> <td>Other Federal Category</td> <td>All Other Federal</td> <td>5305        </td> <td>Smithsonian - Office of Fellowships & Grants  </td> <td>nan            </td> <td>Smithsonian - Office of Fell</td>\n",
       "        </tr>\n",
       "    </tbody>\n",
       "        <tr>\n",
       "            <td>Federal      </td> <td>Other Federal Category</td> <td>All Other Federal</td> <td>5302        </td> <td>Smithsonian - Office of Environmental Sciences</td> <td>nan            </td> <td>Smithsonian - Office of Envi</td>\n",
       "        </tr>\n",
       "    </tbody>\n",
       "        <tr>\n",
       "            <td>Federal      </td> <td>Other Federal Category</td> <td>All Other Federal</td> <td>5301        </td> <td>Smithsonian Institution                       </td> <td>nan            </td> <td>Smithsonian Institution     </td>\n",
       "        </tr>\n",
       "    </tbody>\n",
       "        <tr>\n",
       "            <td>Federal      </td> <td>Other Federal Category</td> <td>All Other Federal</td> <td>5290        </td> <td>National Archives and Records Administration  </td> <td>nan            </td> <td>National Archives and Record</td>\n",
       "        </tr>\n",
       "    </tbody>\n",
       "        <tr>\n",
       "            <td>Federal      </td> <td>Other Federal Category</td> <td>All Other Federal</td> <td>5285        </td> <td>SBA Small Business Administration             </td> <td>SBA            </td> <td>SBA Small Business Administr</td>\n",
       "        </tr>\n",
       "    </tbody>\n",
       "</table>\n",
       "<p>... (7202 rows omitted)</p"
      ],
      "text/plain": [
       "Sponsor Class | Sponsor Category       | Sponsor Type      | Sponsor Code | Sponsor                                        | Sponsor Acronym | SponsorName_trunc\n",
       "Federal       | Other Federal Category | All Other Federal | 150          | CIA Central Intelligence Agency                | CIA             | CIA Central Intelligence Age\n",
       "Federal       | Other Federal Category | All Other Federal | 5510         | Federal Mediation & Conciliation Service       | FMCS            | Federal Mediation & Concilia\n",
       "Federal       | Other Federal Category | All Other Federal | 5440         | National Commission on Air Quality             | nan             | National Commission on Air Q\n",
       "Federal       | Other Federal Category | All Other Federal | 5350         | VA Department of Veterans Affairs              | VA              | VA Department of Veterans Af\n",
       "Federal       | Other Federal Category | All Other Federal | 5325         | Smithsonian - National Museum Natural History  | nan             | Smithsonian - National Museu\n",
       "Federal       | Other Federal Category | All Other Federal | 5305         | Smithsonian - Office of Fellowships & Grants   | nan             | Smithsonian - Office of Fell\n",
       "Federal       | Other Federal Category | All Other Federal | 5302         | Smithsonian - Office of Environmental Sciences | nan             | Smithsonian - Office of Envi\n",
       "Federal       | Other Federal Category | All Other Federal | 5301         | Smithsonian Institution                        | nan             | Smithsonian Institution\n",
       "Federal       | Other Federal Category | All Other Federal | 5290         | National Archives and Records Administration   | nan             | National Archives and Record\n",
       "Federal       | Other Federal Category | All Other Federal | 5285         | SBA Small Business Administration              | SBA             | SBA Small Business Administr\n",
       "... (7202 rows omitted)"
      ]
     },
     "execution_count": 136,
     "metadata": {},
     "output_type": "execute_result"
    }
   ],
   "source": [
    "phoebe_trunc = phoebe.with_column(\"SponsorName_trunc\", \n",
    "                                 phoebe.apply(lambda x: x[0:28], \"Sponsor\"))\n",
    "phoebe_trunc"
   ]
  },
  {
   "cell_type": "code",
   "execution_count": null,
   "metadata": {},
   "outputs": [
    {
     "data": {
      "text/html": [
       "<table border=\"1\" class=\"dataframe\">\n",
       "    <thead>\n",
       "        <tr>\n",
       "            <th>Control Unit</th> <th>Division</th> <th>Department</th> <th>Direct Sponsor</th> <th>2014</th> <th>2015</th> <th>2016</th>\n",
       "        </tr>\n",
       "    </thead>\n",
       "    <tbody>\n",
       "        <tr>\n",
       "            <td>Campus Support</td> <td>Vice Chancellor - Administration</td> <td>Finance                          </td> <td>LBNL Lawrence Berkeley Nati </td> <td>$75,000  </td> <td>$400,000 </td> <td>nan      </td>\n",
       "        </tr>\n",
       "    </tbody>\n",
       "        <tr>\n",
       "            <td>Campus Support</td> <td>Vice Chancellor - Administration</td> <td>Finance                          </td> <td>SAMHSA Center for Substanc  </td> <td>$0       </td> <td>$0       </td> <td>nan      </td>\n",
       "        </tr>\n",
       "    </tbody>\n",
       "        <tr>\n",
       "            <td>Campus Support</td> <td>Vice Chancellor - Administration</td> <td>Finance                          </td> <td>UC Office of the President  </td> <td>$0       </td> <td>nan      </td> <td>nan      </td>\n",
       "        </tr>\n",
       "    </tbody>\n",
       "        <tr>\n",
       "            <td>Campus Support</td> <td>Vice Chancellor - Administration</td> <td>Information Services & Technology</td> <td>Andrew W Mellon Foundation  </td> <td>$150,000 </td> <td>$0       </td> <td>nan      </td>\n",
       "        </tr>\n",
       "    </tbody>\n",
       "        <tr>\n",
       "            <td>Campus Support</td> <td>Vice Chancellor - Administration</td> <td>Information Services & Technology</td> <td>LYRASIS                     </td> <td>nan      </td> <td>$100,018 </td> <td>$70,854  </td>\n",
       "        </tr>\n",
       "    </tbody>\n",
       "        <tr>\n",
       "            <td>Campus Support</td> <td>Vice Chancellor - Administration</td> <td>Information Services & Technology</td> <td>NSF National Science Founda </td> <td>nan      </td> <td>nan      </td> <td>$399,446 </td>\n",
       "        </tr>\n",
       "    </tbody>\n",
       "        <tr>\n",
       "            <td>Campus Support</td> <td>Vice Chancellor - Administration</td> <td>International House              </td> <td>Middlebury College          </td> <td>nan      </td> <td>$10,000  </td> <td>nan      </td>\n",
       "        </tr>\n",
       "    </tbody>\n",
       "        <tr>\n",
       "            <td>Campus Support</td> <td>Vice Chancellor - Administration</td> <td>Public Safety                    </td> <td>Bay Areas Urban Area Securit</td> <td>$327,226 </td> <td>$30,145  </td> <td>nan      </td>\n",
       "        </tr>\n",
       "    </tbody>\n",
       "        <tr>\n",
       "            <td>Campus Support</td> <td>Vice Chancellor - Real Estate   </td> <td>Physical Plant Campus Services   </td> <td>California Emergency Manage </td> <td>nan      </td> <td>nan      </td> <td>$573,828 </td>\n",
       "        </tr>\n",
       "    </tbody>\n",
       "        <tr>\n",
       "            <td>Colleges      </td> <td>CNR College of Natural Resources</td> <td>Null                             </td> <td>Abt Associates, Inc         </td> <td>$73,942  </td> <td>nan      </td> <td>nan      </td>\n",
       "        </tr>\n",
       "    </tbody>\n",
       "</table>\n",
       "<p>... (2862 rows omitted)</p"
      ],
      "text/plain": [
       "Control Unit   | Division                         | Department                        | Direct Sponsor               | 2014      | 2015      | 2016\n",
       "Campus Support | Vice Chancellor - Administration | Finance                           | LBNL Lawrence Berkeley Nati  | $75,000   | $400,000  | nan\n",
       "Campus Support | Vice Chancellor - Administration | Finance                           | SAMHSA Center for Substanc   | $0        | $0        | nan\n",
       "Campus Support | Vice Chancellor - Administration | Finance                           | UC Office of the President   | $0        | nan       | nan\n",
       "Campus Support | Vice Chancellor - Administration | Information Services & Technology | Andrew W Mellon Foundation   | $150,000  | $0        | nan\n",
       "Campus Support | Vice Chancellor - Administration | Information Services & Technology | LYRASIS                      | nan       | $100,018  | $70,854\n",
       "Campus Support | Vice Chancellor - Administration | Information Services & Technology | NSF National Science Founda  | nan       | nan       | $399,446\n",
       "Campus Support | Vice Chancellor - Administration | International House               | Middlebury College           | nan       | $10,000   | nan\n",
       "Campus Support | Vice Chancellor - Administration | Public Safety                     | Bay Areas Urban Area Securit | $327,226  | $30,145   | nan\n",
       "Campus Support | Vice Chancellor - Real Estate    | Physical Plant Campus Services    | California Emergency Manage  | nan       | nan       | $573,828\n",
       "Colleges       | CNR College of Natural Resources | Null                              | Abt Associates, Inc          | $73,942   | nan       | nan\n",
       "... (2862 rows omitted)"
      ]
     },
     "execution_count": 137,
     "metadata": {},
     "output_type": "execute_result"
    }
   ],
   "source": [
    "combined_clean_name = combined_t.with_column('Direct Sponsor', \n",
    "                                        combined_t.apply(lambda x: x.split(\".\")[0], 'Direct Sponsor'))\n",
    "combined_clean_name"
   ]
  },
  {
   "cell_type": "code",
   "execution_count": null,
   "metadata": {},
   "outputs": [],
   "source": [
    "# combined_clean_name.join(\"Direct Sponsor\", phoebe_trunc, \"SponsorName_trunc\")\n",
    "# 10/09 Note: Finding the corresponding \"complete\" names of sponsors\n",
    "extended_names = {}\n",
    "remnants = {}\n",
    "for i in range(combined_clean_name.num_rows):\n",
    "    source_name = combined_clean_name.column('Direct Sponsor')[i]\n",
    "    target = phoebe_trunc.column(\"Sponsor\")\n",
    "    for j in range(len(target)):\n",
    "        target_name = target[j]\n",
    "        if (i) not in extended_names.keys() and source_name in target_name:\n",
    "            extended_names[(i)] = target_name"
   ]
  },
  {
   "cell_type": "code",
   "execution_count": null,
   "metadata": {},
   "outputs": [],
   "source": [
    "extended_names"
   ]
  },
  {
   "cell_type": "code",
   "execution_count": null,
   "metadata": {},
   "outputs": [],
   "source": [
    "combined_t.column('Direct Sponsor')[991]"
   ]
  },
  {
   "cell_type": "code",
   "execution_count": null,
   "metadata": {},
   "outputs": [],
   "source": [
    "orig = (np.array(list(extended_names.keys())))\n",
    "missing = []\n",
    "for elem in range(combined_clean_name.num_rows):\n",
    "    if elem not in orig:\n",
    "        missing += [elem]\n",
    "print(\"Row IDs of sponsors in combined_clean_name not found\", missing)"
   ]
  },
  {
   "cell_type": "code",
   "execution_count": null,
   "metadata": {},
   "outputs": [],
   "source": [
    "combined_clean_name = combined_clean_name.with_column('index', range(combined_clean_name.num_rows))\n",
    "combined_clean_name.show(3)"
   ]
  },
  {
   "cell_type": "code",
   "execution_count": null,
   "metadata": {},
   "outputs": [],
   "source": [
    "combined_clean_name.row([1434, 2849])"
   ]
  },
  {
   "cell_type": "code",
   "execution_count": null,
   "metadata": {},
   "outputs": [],
   "source": [
    "#adding the leftover \n",
    "\n",
    "# 10/09 Note: These two names are found in the corresponding rows of combined_clean_name but were either mispelled \n",
    "# or warped \n",
    "extended_names[1434] = \"Helmholtz Zentrum Munchen\"\n",
    "extended_names[2849] = \"Stifterverband fur die Deutsch\""
   ]
  },
  {
   "cell_type": "code",
   "execution_count": null,
   "metadata": {},
   "outputs": [],
   "source": [
    "len(extended_names) "
   ]
  },
  {
   "cell_type": "markdown",
   "metadata": {},
   "source": [
    "## Starting with extended_names (as a means to join phoebe and data)"
   ]
  },
  {
   "cell_type": "code",
   "execution_count": null,
   "metadata": {},
   "outputs": [],
   "source": [
    "extended_names_tbl = Table().with_columns(['index', extended_names.keys(),\n",
    "                                           'Sponsor', extended_names.values()])\n",
    "extended_names_tbl.show(2)"
   ]
  },
  {
   "cell_type": "code",
   "execution_count": null,
   "metadata": {},
   "outputs": [],
   "source": [
    "combined_clean_name = combined_clean_name.join('index', extended_names_tbl)\n",
    "combined_clean_name.show(100)"
   ]
  },
  {
   "cell_type": "code",
   "execution_count": null,
   "metadata": {},
   "outputs": [],
   "source": [
    "phoebe.group('Sponsor').where('count', are.above(1))"
   ]
  },
  {
   "cell_type": "code",
   "execution_count": null,
   "metadata": {},
   "outputs": [],
   "source": [
    "sponsor_to_class = {\n",
    "    'Abt Associates, Inc.': 'Industry',\n",
    "    'Academy of Sciences of the Czech Republic': 'Non Federal Governmental',\n",
    "    'Intuitive Surgical, Inc.': 'Industry',\n",
    "    'Nazarbayev University': 'Not for Profit',\n",
    "    'Santa Clara Valley Water District': 'Non Federal Governmental',\n",
    "    'Spanish National Research Council': 'Non Federal Governmental',\n",
    "    'Twist Bioscience': 'Industry',\n",
    "    'University of London': 'Not for Profit',\n",
    "    'Van Strum Foundation': 'Not for Profit',\n",
    "    'World Vision Inc.': 'Not for Profit',\n",
    "    'New Profit, Inc.': 'Not for Profit',\n",
    "    'Oak Ridge National Laboratory': 'Federal',\n",
    "}"
   ]
  },
  {
   "cell_type": "code",
   "execution_count": null,
   "metadata": {},
   "outputs": [],
   "source": [
    "def sponsor_to_class_mapper(row):\n",
    "    if row.Sponsor in sponsor_to_class:\n",
    "        return sponsor_to_class[row.Sponsor]\n",
    "    else:\n",
    "        return row['Sponsor Class']"
   ]
  },
  {
   "cell_type": "code",
   "execution_count": null,
   "metadata": {},
   "outputs": [],
   "source": [
    "phoebe = phoebe.to_df().assign(class_clean = phoebe.to_df().apply(sponsor_to_class_mapper, axis=1))"
   ]
  },
  {
   "cell_type": "code",
   "execution_count": null,
   "metadata": {},
   "outputs": [],
   "source": [
    "phoebe = phoebe.drop_duplicates(subset='Sponsor')"
   ]
  },
  {
   "cell_type": "code",
   "execution_count": null,
   "metadata": {},
   "outputs": [],
   "source": [
    "phoebe = Table().from_df(phoebe)"
   ]
  },
  {
   "cell_type": "code",
   "execution_count": null,
   "metadata": {},
   "outputs": [],
   "source": [
    "combined_phoebe = combined_clean_name.join('Sponsor', phoebe)\n",
    "combined_phoebe.show(5)"
   ]
  },
  {
   "cell_type": "code",
   "execution_count": null,
   "metadata": {},
   "outputs": [],
   "source": [
    "combined_phoebe_conc = combined_phoebe.select(['Sponsor', 'Control Unit', 'Division', 'Department', 'class_clean', '2014', '2015', '2016'])\n",
    "combined_phoebe_conc.show(3)\n",
    "# combined_phoebe.labels"
   ]
  },
  {
   "cell_type": "code",
   "execution_count": null,
   "metadata": {},
   "outputs": [],
   "source": [
    "# 10/09 Note: Beginning to  clean dollar amounts\n",
    "combined_phoebe_conc_pd = combined_phoebe_conc.to_df().fillna(\"Null\")"
   ]
  },
  {
   "cell_type": "code",
   "execution_count": null,
   "metadata": {},
   "outputs": [],
   "source": [
    "# dealing with parentheses and dollar signs \n",
    "def money_parse(strval):\n",
    "    if strval == \"Null\" or strval == 'nan':\n",
    "        return 0\n",
    "    if \"(\" in strval:\n",
    "        # Parentheses signify negatives \n",
    "        parsed = eval(strval.replace('($', '').replace(')', '').replace(',', '')) * -1\n",
    "    else:\n",
    "        parsed = eval(strval.replace('$', '').replace(',', ''))\n",
    "    return parsed \n",
    "\n",
    "combined_phoebe_conc_pd['2014'] = combined_phoebe_conc_pd['2014'].apply(money_parse)\n",
    "combined_phoebe_conc_pd['2015'] = combined_phoebe_conc_pd['2015'].apply(money_parse)\n",
    "combined_phoebe_conc_pd['2016'] = combined_phoebe_conc_pd['2016'].apply(money_parse)"
   ]
  },
  {
   "cell_type": "code",
   "execution_count": null,
   "metadata": {},
   "outputs": [],
   "source": [
    "combined_phoebe_conc_pd.head(3)"
   ]
  },
  {
   "cell_type": "code",
   "execution_count": null,
   "metadata": {},
   "outputs": [],
   "source": [
    "# 10/09 Note: contains cleaned data and considers negatives \n",
    "combined_phoebe_conc_pd.to_csv('data/research_funding_clean.csv')"
   ]
  },
  {
   "cell_type": "code",
   "execution_count": null,
   "metadata": {},
   "outputs": [],
   "source": []
  },
  {
   "cell_type": "markdown",
   "metadata": {
    "collapsed": true
   },
   "source": [
    "### Non-stem/stem"
   ]
  },
  {
   "cell_type": "code",
   "execution_count": null,
   "metadata": {
    "scrolled": true
   },
   "outputs": [],
   "source": [
    "# Divisions\n",
    "stem = ['CNR College of Natural Resources', 'Chemistry Department', 'College of Chemistry',\n",
    "       'College of Engineering', 'College of Environmental Design', 'Division of Physical Sciences',\n",
    "       'L&S Biological Sciences', 'School of Information', 'School of Optometry', \n",
    "       ]\n",
    "other = ['Strategic Academic and Facilities Planning', 'UC Library', \n",
    "        'Vice Provost Academic Affairs & Faculty Welfare', 'Vice Chancellor - Student Affairs Division',\n",
    "        'Vice Chancellor - Real Estate', 'Vice Chancellor - Administration', \n",
    "        'VP Academic Planning & Fac', 'Office of Equity & Inclusion',\n",
    "         'EVCP Executive Vice Chancellor & Provost']"
   ]
  },
  {
   "cell_type": "code",
   "execution_count": null,
   "metadata": {},
   "outputs": [],
   "source": [
    "industry.show()"
   ]
  },
  {
   "cell_type": "code",
   "execution_count": null,
   "metadata": {},
   "outputs": [],
   "source": [
    "# if division or department includes sciences, chemistry, engineering, transportation, \n",
    "def non_stem(div, dept):\n",
    "    keywords = ['social sciences', 'international studies', 'education', 'labor and employment',\n",
    "               'law', 'haas', 'regional development', 'humanities']\n",
    "    div_ = np.any([x in div.lower() for x in keywords])\n",
    "    dept_ = np.any([x in dept.lower() for x in keywords])\n",
    "    return div_ or dept_"
   ]
  },
  {
   "cell_type": "code",
   "execution_count": null,
   "metadata": {},
   "outputs": [],
   "source": [
    "stem_industry = industry.with_column('Non_Stem',\n",
    "                                    industry.apply(non_stem, ['Division', 'Department']))\n",
    "stem_industry.where('Non_Stem', True).num_rows"
   ]
  },
  {
   "cell_type": "code",
   "execution_count": null,
   "metadata": {},
   "outputs": [],
   "source": [
    "non = sum(stem_industry.where('Non_Stem', True).column('Total'))\n",
    "stem = sum(stem_industry.where('Non_Stem', False).column('Total'))\n",
    "print(non, \"to non-stem from industry\")\n",
    "print(stem, \"to stem from industry\")\n",
    "print(stem/non ,\": 1 stem to non-stem ratio\")"
   ]
  },
  {
   "cell_type": "markdown",
   "metadata": {},
   "source": [
    "### Other analysis on private funding"
   ]
  },
  {
   "cell_type": "code",
   "execution_count": null,
   "metadata": {},
   "outputs": [],
   "source": [
    "industry.where(\"Total\", are.below(0)).group('Department', sum).sort(\"Total sum\", descending=False)\n",
    "# Null is School of Optometry"
   ]
  },
  {
   "cell_type": "code",
   "execution_count": null,
   "metadata": {},
   "outputs": [],
   "source": []
  }
 ],
 "metadata": {
  "anaconda-cloud": {},
  "kernelspec": {
   "display_name": "Python 3",
   "language": "python",
   "name": "python3"
  },
  "language_info": {
   "codemirror_mode": {
    "name": "ipython",
    "version": 3
   },
   "file_extension": ".py",
   "mimetype": "text/x-python",
   "name": "python",
   "nbconvert_exporter": "python",
   "pygments_lexer": "ipython3",
   "version": "3.6.2"
  }
 },
 "nbformat": 4,
 "nbformat_minor": 1
}
